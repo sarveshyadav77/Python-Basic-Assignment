{
 "cells": [
  {
   "cell_type": "markdown",
   "id": "a57c89a7",
   "metadata": {},
   "source": [
    "#### Q1. Is the Python Standard Library included with PyInputPlus?\n",
    "\n",
    "PyInputPlus is not a part of the Python Standard Library, we must install it separately using Pip.\n",
    "\n",
    "PyInputPlus is a Python module used for taking inputs with additional validation features. PyInputPlus will keep asking the user for text until they enter valid input."
   ]
  },
  {
   "cell_type": "markdown",
   "id": "c2036e3b",
   "metadata": {},
   "source": [
    "#### Q2.  Why is PyInputPlus commonly imported with import pyinputplus as pypi?\n",
    "\n",
    "You can import the module with import pyinputplus as pyip so that you can enter a shorter name when calling the module’s functions"
   ]
  },
  {
   "cell_type": "markdown",
   "id": "3b574f28",
   "metadata": {},
   "source": [
    "#### Q3. How do you distinguish between inputInt() and inputFloat()?\n",
    "\n",
    "The difference is in the data-type when you use the first one the program expects an integer value as input but in the latter it expects a float value i.e number containing a decimal"
   ]
  },
  {
   "cell_type": "markdown",
   "id": "1f335bcd",
   "metadata": {},
   "source": [
    "#### Q4. Using PyInputPlus, how do you ensure that the user enters a whole number between 0 and 99?\n",
    "\n",
    "By using pyip.inputint(min=0, max=99)"
   ]
  },
  {
   "cell_type": "markdown",
   "id": "5efd36ca",
   "metadata": {},
   "source": [
    "#### Q5. What is transferred to the keyword arguments allowRegexes and blockRegexes?\n",
    "\n",
    "A list of regex strings that are either explicitly allowed or denied"
   ]
  },
  {
   "cell_type": "markdown",
   "id": "a82dbb43",
   "metadata": {},
   "source": [
    "#### Q6. If a blank input is entered three times, what does inputStr(limit=3) do?\n",
    "\n",
    "The function will raise RetryLimitException."
   ]
  },
  {
   "cell_type": "markdown",
   "id": "e4535d91",
   "metadata": {},
   "source": [
    "#### Q7. If blank input is entered three times, what does inputStr(limit=3, default='hello') do?\n",
    "\n",
    "The function returns the value 'hello'"
   ]
  },
  {
   "cell_type": "code",
   "execution_count": null,
   "id": "f5824982",
   "metadata": {},
   "outputs": [],
   "source": []
  }
 ],
 "metadata": {
  "kernelspec": {
   "display_name": "Python 3 (ipykernel)",
   "language": "python",
   "name": "python3"
  },
  "language_info": {
   "codemirror_mode": {
    "name": "ipython",
    "version": 3
   },
   "file_extension": ".py",
   "mimetype": "text/x-python",
   "name": "python",
   "nbconvert_exporter": "python",
   "pygments_lexer": "ipython3",
   "version": "3.9.7"
  }
 },
 "nbformat": 4,
 "nbformat_minor": 5
}

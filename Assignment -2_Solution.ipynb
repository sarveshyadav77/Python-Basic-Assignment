{
 "cells": [
  {
   "cell_type": "markdown",
   "id": "82685e75",
   "metadata": {},
   "source": [
    " ## Q.1 What are the two values of the Boolean data type? How do you write them?\n",
    " \n",
    " There are two boolean types:\n",
    " TRUE and FALSE"
   ]
  },
  {
   "cell_type": "markdown",
   "id": "fcd4721d",
   "metadata": {},
   "source": [
    "## Q.2 What are the three different types of Boolean operators?\n",
    "Three different types of boolean operators are:\n",
    "AND: find common which is available in all the data \n",
    "OR: Find those data which are present in either A data set or B\n",
    "NOT: Used for those which are not assign to consider"
   ]
  },
  {
   "cell_type": "raw",
   "id": "7cdeda28",
   "metadata": {},
   "source": [
    "# Q3. Make a list of each Boolean operator's truth tables (i.e. every possible combination of Boolean values for the operator and what it evaluate ).\n",
    "\n",
    "\n",
    "Operator\t      Meaning\t                                       Example\n",
    "AND\t         Output will be TRUE only if Both are True\t            X and Y\n",
    "OR\t         Output will be TRUE if Atleaast one is True\t        X OR Y\n",
    "NOT\t         True only if False\t                                    NOT X\n",
    "\n"
   ]
  },
  {
   "cell_type": "raw",
   "id": "300901bb",
   "metadata": {},
   "source": [
    "Q4. What are the values of the following expressions?\n",
    "(5 > 4) and (3 == 5)\n",
    "not (5 > 4)\n",
    "(5 > 4) or (3 == 5)\n",
    "not ((5 > 4) or (3 == 5))\n",
    "(True and True) and (True == False)\n",
    "(not False) or (not True)\n"
   ]
  },
  {
   "cell_type": "raw",
   "id": "4ee12830",
   "metadata": {},
   "source": [
    "(5 > 4) and (3 == 5)- False\n",
    "not (5 > 4)         - Flase\n",
    "(5 > 4) or (3 == 5) - True\n",
    "not ((5 > 4) or (3 == 5)) - Flase\n",
    "(True and True) and (True == False) -False\n",
    "(not False) or (not True) - True"
   ]
  },
  {
   "cell_type": "raw",
   "id": "3766bdfc",
   "metadata": {},
   "source": [
    "Q5. What are the six comparison operators?\n",
    "\n",
    "1- Less than ( < )\n",
    "2- Less than or equal to (<=)\n",
    "3- Greater than (>)\n",
    "4- Greater than or equal to (>=)\n",
    "5- Equal to ( == )\n",
    "6- Not equal to ( != )"
   ]
  },
  {
   "cell_type": "raw",
   "id": "114ea587",
   "metadata": {},
   "source": [
    "Q6.How do you tell the difference between the equal to and assignment operators?\n",
    "Describe a condition and when you would use one.\n",
    "\n",
    "The “=” is an assignment operator is used to assign the value on the right to the variable on the left. \n",
    "The '==' operator checks whether the two given operands are equal or not\n"
   ]
  },
  {
   "cell_type": "code",
   "execution_count": 13,
   "id": "a731a925",
   "metadata": {},
   "outputs": [
    {
     "name": "stdout",
     "output_type": "stream",
     "text": [
      "5 is an odd number\n"
     ]
    }
   ],
   "source": [
    "a = 5\n",
    "if a == 5:\n",
    "    print(a, \"is an odd number\")"
   ]
  },
  {
   "cell_type": "code",
   "execution_count": 14,
   "id": "47aa078c",
   "metadata": {},
   "outputs": [
    {
     "name": "stdout",
     "output_type": "stream",
     "text": [
      "eggs\n",
      "ham\n",
      "spam\n",
      "spam\n"
     ]
    }
   ],
   "source": [
    "## Q7.Identify the three blocks in this code:\n",
    "spam = 0\n",
    "if spam ==0:\n",
    "    print(\"eggs\") #....k1\n",
    "if spam >5:\n",
    "    print(\"bacon\") #.......block2\n",
    "else: \n",
    "    print(\"ham\")\n",
    "    print(\"spam\")\n",
    "    print(\"spam\")#......Block3"
   ]
  },
  {
   "cell_type": "raw",
   "id": "915c73d2",
   "metadata": {},
   "source": [
    "Q8. Write code that prints Hello if 1 is stored in spam, prints Howdy if 2 is stored in spam, and prints Greetings! \n",
    "if anything else is stored in spam.\n",
    "if spam == 1:\n",
    "    print(\"Hello\")\n",
    "if spam == 2:\n",
    "    print(\"Howdy\")\n",
    "else:\n",
    "    print(\"Greetings!\")\n"
   ]
  },
  {
   "cell_type": "code",
   "execution_count": 34,
   "id": "83249c08",
   "metadata": {},
   "outputs": [
    {
     "name": "stdout",
     "output_type": "stream",
     "text": [
      "Your Enter number is 2\n",
      "Howdy\n"
     ]
    }
   ],
   "source": [
    "#spam = 1\n",
    "#spam = 2\n",
    "spam = int(input(\"Your Enter number is \" ))\n",
    "if spam == 1:\n",
    "    print(\"Hello\")\n",
    "if spam == 2:\n",
    "    print(\"Howdy\")\n",
    "else:\n",
    "    print(\"Greetings!\")\n"
   ]
  },
  {
   "cell_type": "raw",
   "id": "854ae23d",
   "metadata": {},
   "source": [
    "Q9.If your programme is stuck in an endless loop, what keys you’ll press?\n",
    "\n",
    "You can press Ctrl + C ."
   ]
  },
  {
   "cell_type": "raw",
   "id": "72efdf29",
   "metadata": {},
   "source": [
    "Q10. How can you tell the difference between break and continue?\n",
    "\n",
    "Break statement stops the entire process of the loop. Continue statement only stops the current iteration of the loop. Break also terminates the remaining iterations. Continue doesn't terminate the next iterations; it resumes with the successive iterations"
   ]
  },
  {
   "cell_type": "code",
   "execution_count": 55,
   "id": "ee4a44e2",
   "metadata": {},
   "outputs": [
    {
     "name": "stdout",
     "output_type": "stream",
     "text": [
      "1\n",
      "3\n",
      "5\n",
      "7\n",
      "here sequence breaked and sequence of new block starts\n",
      "0\n",
      "1\n",
      "2\n",
      "3\n",
      "4\n",
      "5\n",
      "6\n",
      "7\n",
      "8\n",
      "9\n",
      "12\n",
      "13\n",
      "14\n",
      "15\n"
     ]
    }
   ],
   "source": [
    "#Q10.\n",
    "\n",
    "for i in range (1,16,2):\n",
    "    if i == 9:\n",
    "        break\n",
    "    print(i)\n",
    "    \n",
    "print(\"here sequence breaked and sequence of new block starts\")   \n",
    "# for continue block\n",
    "for i in range(16):\n",
    "    if i == 10 or i == 11:\n",
    "        continue\n",
    "    print(i)"
   ]
  },
  {
   "cell_type": "raw",
   "id": "8ea02bdd",
   "metadata": {},
   "source": [
    "Q11. In a for loop, what is the difference between range(10), range(0, 10), and range(0, 10, 1)?\n",
    "\n",
    "When we will run this program then answer will be same. in the first case our default first argument will be 0 with incremental of 1. \n",
    "\n"
   ]
  },
  {
   "cell_type": "code",
   "execution_count": 59,
   "id": "1aabf5aa",
   "metadata": {},
   "outputs": [
    {
     "name": "stdout",
     "output_type": "stream",
     "text": [
      "this is the result of range(10)\n",
      "0\n",
      "1\n",
      "2\n",
      "3\n",
      "4\n",
      "5\n",
      "6\n",
      "7\n",
      "8\n",
      "9\n",
      "this is the result of range(0,10)\n",
      "0\n",
      "1\n",
      "2\n",
      "3\n",
      "4\n",
      "5\n",
      "6\n",
      "7\n",
      "8\n",
      "9\n",
      "this is the result of range(0,10)\n",
      "0\n",
      "1\n",
      "2\n",
      "3\n",
      "4\n",
      "5\n",
      "6\n",
      "7\n",
      "8\n",
      "9\n"
     ]
    }
   ],
   "source": [
    "# Q.11\n",
    "print (\"this is the result of range(10)\")\n",
    "for i in range(10):\n",
    "    print(i)\n",
    "print (\"this is the result of range(0,10)\")\n",
    "for i in range (0,10):\n",
    "    print(i)\n",
    "print (\"this is the result of range(0,10)\")\n",
    "for i in range (0,10,1):\n",
    "    print(i)\n"
   ]
  },
  {
   "cell_type": "raw",
   "id": "94bd4df1",
   "metadata": {},
   "source": [
    "Q12. Write a short program that prints the numbers 1 to 10 using a for loop. \n",
    "Then write an equivalent program that prints the numbers 1 to 10 using a while loop.\n"
   ]
  },
  {
   "cell_type": "code",
   "execution_count": 61,
   "id": "71c1364d",
   "metadata": {},
   "outputs": [
    {
     "name": "stdout",
     "output_type": "stream",
     "text": [
      "Use of for loop\n",
      "1\n",
      "2\n",
      "3\n",
      "4\n",
      "5\n",
      "6\n",
      "7\n",
      "8\n",
      "9\n",
      "10\n",
      "Use of While Loop\n",
      "1\n",
      "2\n",
      "3\n",
      "4\n",
      "5\n",
      "6\n",
      "7\n",
      "8\n",
      "9\n",
      "10\n"
     ]
    }
   ],
   "source": [
    "Q12. #Use of For Loop\n",
    "print(\"Use of for loop\")\n",
    "for i in range(1,11):\n",
    "    print(i)\n",
    "#Use of While Loop\n",
    "print(\"Use of While Loop\")\n",
    "a =1\n",
    "while a <= 10:\n",
    "    print(a)\n",
    "    a+=1"
   ]
  },
  {
   "cell_type": "raw",
   "id": "5464c972",
   "metadata": {},
   "source": [
    "Q13. If you had a function named bacon() inside a module named spam, how would you call it after importing spam?\n",
    "\n",
    "This function can be called with spam.bacon()."
   ]
  },
  {
   "cell_type": "code",
   "execution_count": null,
   "id": "266870ee",
   "metadata": {},
   "outputs": [],
   "source": []
  }
 ],
 "metadata": {
  "kernelspec": {
   "display_name": "Python 3 (ipykernel)",
   "language": "python",
   "name": "python3"
  },
  "language_info": {
   "codemirror_mode": {
    "name": "ipython",
    "version": 3
   },
   "file_extension": ".py",
   "mimetype": "text/x-python",
   "name": "python",
   "nbconvert_exporter": "python",
   "pygments_lexer": "ipython3",
   "version": "3.9.7"
  }
 },
 "nbformat": 4,
 "nbformat_minor": 5
}

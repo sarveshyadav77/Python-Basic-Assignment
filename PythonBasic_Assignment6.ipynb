{
 "cells": [
  {
   "cell_type": "markdown",
   "id": "3c97e75a",
   "metadata": {},
   "source": [
    "#### Q1. What are escape characters, and how do you use them?\n",
    "\n",
    "To insert characters that are illegal in a string, use an escape character.\n",
    "An escape character is a backslash \\ followed by the character you want to insert.\n",
    "An example of an illegal character is a double quote inside a string that is surrounded by double quotes:"
   ]
  },
  {
   "cell_type": "code",
   "execution_count": 2,
   "id": "86af9163",
   "metadata": {},
   "outputs": [
    {
     "name": "stdout",
     "output_type": "stream",
     "text": [
      "We are the so-called \"Vikings\" from the north.\n"
     ]
    }
   ],
   "source": [
    "# The escape character allows you to use double quotes when you normally would not be allowed:\n",
    "txt = \"We are the so-called \\\"Vikings\\\" from the north.\"\n",
    "print(txt)"
   ]
  },
  {
   "cell_type": "markdown",
   "id": "507be8ea",
   "metadata": {},
   "source": [
    "#### Q2. What do the escape characters n and t stand for?\n",
    "\n",
    "\\n\tmeans New Line,       \n",
    "\\t\tmeans Tab"
   ]
  },
  {
   "cell_type": "code",
   "execution_count": 3,
   "id": "51b4447b",
   "metadata": {},
   "outputs": [
    {
     "name": "stdout",
     "output_type": "stream",
     "text": [
      "Hello\tWorld!\n",
      "Hello\n",
      "World!\n"
     ]
    }
   ],
   "source": [
    "txt = \"Hello\\tWorld!\"\n",
    "print(txt) \n",
    "\n",
    "txt = \"Hello\\nWorld!\"\n",
    "print(txt) "
   ]
  },
  {
   "cell_type": "code",
   "execution_count": null,
   "id": "7c34059f",
   "metadata": {},
   "outputs": [],
   "source": [
    "txt = \"HelloWorld!\""
   ]
  },
  {
   "cell_type": "markdown",
   "id": "4c141823",
   "metadata": {},
   "source": [
    "#### Q3. What is the way to include backslash characters in a string?\n",
    "\n",
    "This will insert one \\ (backslash)."
   ]
  },
  {
   "cell_type": "code",
   "execution_count": 4,
   "id": "85c14a0c",
   "metadata": {},
   "outputs": [
    {
     "name": "stdout",
     "output_type": "stream",
     "text": [
      "This will insert one \\ (backslash).\n"
     ]
    }
   ],
   "source": [
    "txt = \"This will insert one \\\\ (backslash).\"\n",
    "print(txt) "
   ]
  },
  {
   "cell_type": "markdown",
   "id": "79fbd4a9",
   "metadata": {},
   "source": [
    "#### Q4. The string \"Howl's Moving Castle\" is a correct value. Why isn't the single quote character in the word Howl's not escaped a problem?\n",
    "\n",
    "The single quote in Howl's is fine because you've used double quotes to mark the beginning and end of the string."
   ]
  },
  {
   "cell_type": "markdown",
   "id": "02985598",
   "metadata": {},
   "source": [
    "#### Q5. How do you write a string of newlines if you don't want to use the n character?\n",
    "\n",
    "Multiline strings allow you to use newlines in strings without the \\n escape character."
   ]
  },
  {
   "cell_type": "markdown",
   "id": "58b78a82",
   "metadata": {},
   "source": [
    "#### Q6. What are the values of the given expressions?\n",
    "'Hello, world!'[1],   \n",
    "'Hello, world!'[0:5],   \n",
    "'Hello, world!'[:5],    \n",
    "'Hello, world!'[3:]"
   ]
  },
  {
   "cell_type": "code",
   "execution_count": 7,
   "id": "29c08347",
   "metadata": {},
   "outputs": [
    {
     "data": {
      "text/plain": [
       "'e'"
      ]
     },
     "execution_count": 7,
     "metadata": {},
     "output_type": "execute_result"
    }
   ],
   "source": [
    "'Hello, world!'[1]"
   ]
  },
  {
   "cell_type": "code",
   "execution_count": 8,
   "id": "2fe2a59b",
   "metadata": {},
   "outputs": [
    {
     "data": {
      "text/plain": [
       "('Hello',)"
      ]
     },
     "execution_count": 8,
     "metadata": {},
     "output_type": "execute_result"
    }
   ],
   "source": [
    "'Hello, world!'[0:5],"
   ]
  },
  {
   "cell_type": "code",
   "execution_count": 9,
   "id": "f8cb9cf9",
   "metadata": {},
   "outputs": [
    {
     "data": {
      "text/plain": [
       "'Hello'"
      ]
     },
     "execution_count": 9,
     "metadata": {},
     "output_type": "execute_result"
    }
   ],
   "source": [
    "'Hello, world!'[:5]"
   ]
  },
  {
   "cell_type": "code",
   "execution_count": 10,
   "id": "4938ee51",
   "metadata": {},
   "outputs": [
    {
     "data": {
      "text/plain": [
       "'lo, world!'"
      ]
     },
     "execution_count": 10,
     "metadata": {},
     "output_type": "execute_result"
    }
   ],
   "source": [
    "'Hello, world!'[3:]"
   ]
  },
  {
   "cell_type": "markdown",
   "id": "ebcc22d2",
   "metadata": {},
   "source": [
    "#### Q7. What are the values of the following expressions?\n",
    "'Hello'.upper()\n",
    "'Hello'.upper().isupper()\n",
    "'Hello'.upper().lower()\n"
   ]
  },
  {
   "cell_type": "code",
   "execution_count": null,
   "id": "68794e9d",
   "metadata": {},
   "outputs": [],
   "source": []
  },
  {
   "cell_type": "code",
   "execution_count": 11,
   "id": "d152a133",
   "metadata": {},
   "outputs": [
    {
     "data": {
      "text/plain": [
       "'HELLO'"
      ]
     },
     "execution_count": 11,
     "metadata": {},
     "output_type": "execute_result"
    }
   ],
   "source": [
    "'Hello'.upper()"
   ]
  },
  {
   "cell_type": "code",
   "execution_count": 12,
   "id": "357b4474",
   "metadata": {},
   "outputs": [
    {
     "data": {
      "text/plain": [
       "True"
      ]
     },
     "execution_count": 12,
     "metadata": {},
     "output_type": "execute_result"
    }
   ],
   "source": [
    "'Hello'.upper().isupper()"
   ]
  },
  {
   "cell_type": "code",
   "execution_count": 13,
   "id": "61c1b5b9",
   "metadata": {},
   "outputs": [
    {
     "data": {
      "text/plain": [
       "'hello'"
      ]
     },
     "execution_count": 13,
     "metadata": {},
     "output_type": "execute_result"
    }
   ],
   "source": [
    "'Hello'.upper().lower()"
   ]
  },
  {
   "cell_type": "markdown",
   "id": "9cb974d1",
   "metadata": {},
   "source": [
    "#### Q8. What are the values of the following expressions?\n",
    "'Remember, remember, the fifth of July.'.split()\n",
    "'-'.join('There can only one.'.split())"
   ]
  },
  {
   "cell_type": "code",
   "execution_count": 15,
   "id": "d0b7ea34",
   "metadata": {},
   "outputs": [
    {
     "data": {
      "text/plain": [
       "['Remember,', 'remember,', 'the', 'fifth', 'of', 'July.']"
      ]
     },
     "execution_count": 15,
     "metadata": {},
     "output_type": "execute_result"
    }
   ],
   "source": [
    "'Remember, remember, the fifth of July.'.split()\n"
   ]
  },
  {
   "cell_type": "code",
   "execution_count": 16,
   "id": "8a9c922d",
   "metadata": {},
   "outputs": [
    {
     "data": {
      "text/plain": [
       "'There-can-only-one.'"
      ]
     },
     "execution_count": 16,
     "metadata": {},
     "output_type": "execute_result"
    }
   ],
   "source": [
    "'-'.join('There can only one.'.split())"
   ]
  },
  {
   "cell_type": "markdown",
   "id": "9cc79015",
   "metadata": {},
   "source": [
    "#### Q9. What are the methods for right-justifying, left-justifying, and centering a string?\n",
    "\n",
    "The rjust(), ljust(), and center() string methods, respectively"
   ]
  },
  {
   "cell_type": "code",
   "execution_count": 20,
   "id": "6119c5e4",
   "metadata": {},
   "outputs": [
    {
     "name": "stdout",
     "output_type": "stream",
     "text": [
      "the center alligned element is \n",
      "################ I love my country################\n"
     ]
    }
   ],
   "source": [
    "cstr = \" I love my country\"\n",
    "print(\"the center alligned element is \")\n",
    "print(cstr.center(50, '#'))"
   ]
  },
  {
   "cell_type": "code",
   "execution_count": 24,
   "id": "3b058feb",
   "metadata": {},
   "outputs": [
    {
     "name": "stdout",
     "output_type": "stream",
     "text": [
      "the left alligned element is \n",
      " I love my country--------------------------------\n"
     ]
    }
   ],
   "source": [
    "cstr = \" I love my country\"\n",
    "print(\"the left alligned element is \")\n",
    "print(cstr.ljust(50, '-'))"
   ]
  },
  {
   "cell_type": "code",
   "execution_count": 25,
   "id": "5484fcc7",
   "metadata": {},
   "outputs": [
    {
     "name": "stdout",
     "output_type": "stream",
     "text": [
      "the right alligned element is \n",
      "-------------------------------- I love my country\n"
     ]
    }
   ],
   "source": [
    "cstr = \" I love my country\"\n",
    "print(\"the right alligned element is \")\n",
    "print(cstr.rjust(50, '-'))"
   ]
  },
  {
   "cell_type": "markdown",
   "id": "7c9eb7f7",
   "metadata": {},
   "source": [
    "#### Q10. What is the best way to remove whitespace characters from the start or end?\n",
    "\n",
    "The lstrip() and rstrip() methods remove whitespace from the left and right ends of a string, respectively.\n",
    "\n",
    "1. strip():- This method is used to delete all the leading and trailing characters mentioned in its argument.\n",
    "2. lstrip():- This method is used to delete all the leading characters mentioned in its argument.\n",
    "3. rstrip():- This method is used to delete all the trailing characters mentioned in its argument."
   ]
  },
  {
   "cell_type": "code",
   "execution_count": 28,
   "id": "a277efce",
   "metadata": {},
   "outputs": [
    {
     "name": "stdout",
     "output_type": "stream",
     "text": [
      "---------------I love my country-------------\n",
      "String after removing all other '-' is :\n",
      "I love my country\n"
     ]
    }
   ],
   "source": [
    "str = \"---------------I love my country-------------\"\n",
    "print(str)\n",
    "print (\"String after removing all other '-' is :\" )\n",
    "print(str.strip('-'))"
   ]
  },
  {
   "cell_type": "code",
   "execution_count": 29,
   "id": "954501aa",
   "metadata": {},
   "outputs": [
    {
     "name": "stdout",
     "output_type": "stream",
     "text": [
      "---------------I love my country-------------\n",
      "String after removing left '-' is :\n",
      "I love my country-------------\n"
     ]
    }
   ],
   "source": [
    "str = \"---------------I love my country-------------\"\n",
    "print(str)\n",
    "print (\"String after removing left '-' is :\" )\n",
    "print(str.lstrip('-'))"
   ]
  },
  {
   "cell_type": "code",
   "execution_count": 30,
   "id": "fcb6800d",
   "metadata": {},
   "outputs": [
    {
     "name": "stdout",
     "output_type": "stream",
     "text": [
      "---------------I love my country-------------\n",
      "String after removing right '-' is :\n",
      "---------------I love my country\n"
     ]
    }
   ],
   "source": [
    "str = \"---------------I love my country-------------\"\n",
    "print(str)\n",
    "print (\"String after removing right '-' is :\" )\n",
    "print(str.rstrip('-'))"
   ]
  }
 ],
 "metadata": {
  "kernelspec": {
   "display_name": "Python 3 (ipykernel)",
   "language": "python",
   "name": "python3"
  },
  "language_info": {
   "codemirror_mode": {
    "name": "ipython",
    "version": 3
   },
   "file_extension": ".py",
   "mimetype": "text/x-python",
   "name": "python",
   "nbconvert_exporter": "python",
   "pygments_lexer": "ipython3",
   "version": "3.9.7"
  }
 },
 "nbformat": 4,
 "nbformat_minor": 5
}

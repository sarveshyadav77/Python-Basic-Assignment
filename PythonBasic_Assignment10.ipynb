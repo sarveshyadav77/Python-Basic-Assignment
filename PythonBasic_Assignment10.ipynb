{
 "cells": [
  {
   "cell_type": "markdown",
   "id": "6421c0f5",
   "metadata": {},
   "source": [
    "#### Q1. How do you distinguish between shutil.copy() and shutil.copytree()?\n",
    "\n",
    "While shutil.copy() will copy a single file, shutil.copytree() will copy an entire folder and every folder and file contained in it."
   ]
  },
  {
   "cell_type": "markdown",
   "id": "824b3726",
   "metadata": {},
   "source": [
    "#### Q2. What function is used to rename files??\n",
    "\n",
    "os.rename() method in Python is used to rename a file or directory.\n",
    "This method renames a source file/ directory to specified destination file/directory.\n",
    "\n",
    "Syntax: os.rename(source, destination, *, src_dir_fd = None, dst_dir_fd = None)"
   ]
  },
  {
   "cell_type": "markdown",
   "id": "ea8e40d8",
   "metadata": {},
   "source": [
    "#### Q3. What is the difference between the delete functions in the send2trash and shutil modules?\n",
    "\n",
    "#### Send2Trash is a small package that can send files to the Trash or Recycle Bin instead of permanently deleting them. \n",
    "The send2trash() function accepts the location of the file or folder to be deleted.\n",
    "\n",
    "The shutil (or shell utilities) module has functions to let you copy, move, rename, and delete files in your Python programs. To use the shutil functions, you will first need to use import shutil.\n",
    "\n",
    "#### Permanently Deleting Files and Folders\n",
    "You can delete a single file or a single empty folder with functions in the os module, whereas to delete a folder and all of its contents, you use the shutil module.\n",
    "\n",
    "Calling os.unlink(path) will delete the file at path.\n",
    "Calling os.rmdir(path) will delete the folder at path. This folder must be empty of any files or folders.\n",
    "Calling shutil.rmtree(path) will remove the folder at path, and all files and folders it contains will also be deleted.\n",
    "\n"
   ]
  },
  {
   "cell_type": "code",
   "execution_count": 10,
   "id": "638c3411",
   "metadata": {},
   "outputs": [],
   "source": [
    "import os\n",
    "import send2trash\n",
    "import shutil"
   ]
  },
  {
   "cell_type": "code",
   "execution_count": 11,
   "id": "f43530ae",
   "metadata": {},
   "outputs": [
    {
     "data": {
      "text/plain": [
       "'F:\\\\Python_Assignment'"
      ]
     },
     "execution_count": 11,
     "metadata": {},
     "output_type": "execute_result"
    }
   ],
   "source": [
    "os.getcwd()"
   ]
  },
  {
   "cell_type": "code",
   "execution_count": 12,
   "id": "04a64437",
   "metadata": {},
   "outputs": [],
   "source": [
    "os.chdir(\"F:\\Python_Assignment\")"
   ]
  },
  {
   "cell_type": "code",
   "execution_count": 13,
   "id": "a6df1515",
   "metadata": {},
   "outputs": [
    {
     "data": {
      "text/plain": [
       "'F:\\\\Python_Assignment'"
      ]
     },
     "execution_count": 13,
     "metadata": {},
     "output_type": "execute_result"
    }
   ],
   "source": [
    "os.getcwd()"
   ]
  },
  {
   "cell_type": "code",
   "execution_count": 14,
   "id": "e16cf7cf",
   "metadata": {},
   "outputs": [],
   "source": [
    "# location\n",
    "location = \"F:/Python_Assignment\"\n",
    "# directory\n",
    "dir = \"Python_Basic_Solution\"\n",
    "# path\n",
    "path = os.path.join(location, dir)\n",
    "   \n",
    "# removing directory\n",
    "shutil.rmtree(path)\n"
   ]
  },
  {
   "cell_type": "markdown",
   "id": "d11bee9e",
   "metadata": {},
   "source": [
    "#### Q4. ZipFile objects have a close() method just like File objects’ close() method. What ZipFile method is equivalent to File objects’ open() method?\n",
    "\n",
    "The zipfile.ZipFile() function is equivalent to the open() function; the first argument is the filename, and the second argument is the mode to open the ZIP file in (read, write, or append)."
   ]
  },
  {
   "cell_type": "markdown",
   "id": "69a9e273",
   "metadata": {},
   "source": [
    "#### Q5. Create a programme that searches a folder tree for files with a certain file extension (such as .pdf or .jpg). Copy these files from whatever location they are in to a new folder.\n",
    "\n"
   ]
  },
  {
   "cell_type": "code",
   "execution_count": 15,
   "id": "a9f78187",
   "metadata": {},
   "outputs": [
    {
     "name": "stdout",
     "output_type": "stream",
     "text": [
      "Looking in F:\\Python_Assignment\\randomFolder for files with extensions of .php, .py\n"
     ]
    }
   ],
   "source": [
    "import os, shutil\n",
    "\n",
    "def selectiveCopy(folder, extensions, destFolder):\n",
    "\tfolder = os.path.abspath(folder)\n",
    "\tdestFolder = os.path.abspath(destFolder)\n",
    "\tprint('Looking in', folder, 'for files with extensions of', ', '.join(extensions))\n",
    "\tfor foldername, subfolders, filenames in os.walk(folder):\n",
    "\t\tfor filename in filenames:\n",
    "\t\t\tname, extension = os.path.splitext(filename)\n",
    "\t\t\tif extension in extensions:\n",
    "\t\t\t\tfileAbsPath = foldername + os.path.sep + filename\n",
    "\t\t\t\tprint('Coping', fileAbsPath, 'to', destFolder)\n",
    "\t\t\t\tshutil.copy(fileAbsPath, destFolder)\n",
    "\n",
    "extensions = ['.php', '.py']\n",
    "folder = 'randomFolder'\n",
    "destFolder = 'selectiveFolder'\n",
    "selectiveCopy(folder, extensions, destFolder)"
   ]
  },
  {
   "cell_type": "code",
   "execution_count": null,
   "id": "24c064f8",
   "metadata": {},
   "outputs": [],
   "source": []
  }
 ],
 "metadata": {
  "kernelspec": {
   "display_name": "Python 3 (ipykernel)",
   "language": "python",
   "name": "python3"
  },
  "language_info": {
   "codemirror_mode": {
    "name": "ipython",
    "version": 3
   },
   "file_extension": ".py",
   "mimetype": "text/x-python",
   "name": "python",
   "nbconvert_exporter": "python",
   "pygments_lexer": "ipython3",
   "version": "3.9.7"
  }
 },
 "nbformat": 4,
 "nbformat_minor": 5
}

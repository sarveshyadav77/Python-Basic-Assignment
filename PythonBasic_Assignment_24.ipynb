{
 "cells": [
  {
   "cell_type": "markdown",
   "id": "6cd6108b",
   "metadata": {},
   "source": [
    "#### Q1. What is the relationship between def statements and lambda expressions ?\n",
    "\n",
    "Both lambda and def create the same kind of function – they have the same kind of metadata and capabilities. Their technical difference is syntactical:\n",
    "\n",
    "A lambda is an expression producing a function.\n",
    "A def is a statement producing a function.\n",
    "\n",
    "These functions do not have parenthesis like the def defined functions but instead, take parameters after the lambda keyword as shown above. There is no return keyword defined explicitly because the lambda function does return an object by default."
   ]
  },
  {
   "cell_type": "code",
   "execution_count": 2,
   "id": "c9a427cb",
   "metadata": {},
   "outputs": [
    {
     "name": "stdout",
     "output_type": "stream",
     "text": [
      "3.0\n",
      "3.0\n"
     ]
    }
   ],
   "source": [
    "\"****************def function use*************************\"\n",
    "def calculate_cube_root(x):\n",
    "    return x**(1/3)\n",
    "print(calculate_cube_root(27))\n",
    "\"****************lamda function use*************************\"\n",
    "\n",
    "cube_root= lambda x: x**(1/3)\n",
    "print(cube_root(27))\n"
   ]
  },
  {
   "cell_type": "markdown",
   "id": "50b7dd65",
   "metadata": {},
   "source": [
    "#### Q2. What is the benefit of lambda?\n",
    "\n",
    "The lambda keyword in Python provides a shortcut for declaring small anonymous functions. Lambda functions behave just like regular functions declared with the def keyword. They can be used whenever function objects are required."
   ]
  },
  {
   "cell_type": "markdown",
   "id": "1939c7c2",
   "metadata": {},
   "source": [
    "#### Q3. Compare and contrast map, filter, and reduce.\n",
    "\n",
    "The functions map(), filter(), and reduce() all do the same thing: They each take a function and a list of elements, and then return the result of applying the function to each element in the list. As previously stated, Python has built-in functions like map(), filter(), and reduce()."
   ]
  },
  {
   "cell_type": "markdown",
   "id": "5e0339ba",
   "metadata": {},
   "source": [
    "#### Q4.  What are function annotations, and how are they used?\n",
    "\n",
    "Function annotations are arbitrary python expressions that are associated with various part of functions. These expressions are evaluated at compile time and have no life in python’s runtime environment. Python does not attach any meaning to these annotations. \n",
    "\n",
    "The 3 types of annotation include descriptive, summary, and evaluation."
   ]
  },
  {
   "cell_type": "markdown",
   "id": "c76d061b",
   "metadata": {},
   "source": [
    "#### Q5. What are recursive functions, and how are they used?\n",
    "\n",
    "A recursive function is a function in code that refers to itself for execution. Recursive functions can be simple or elaborate. They allow for more efficient code writing, for instance, in the listing or compiling of sets of numbers, strings or other variables through a single reiterated process."
   ]
  },
  {
   "cell_type": "markdown",
   "id": "8633af39",
   "metadata": {},
   "source": [
    "#### Q6. What are some general design guidelines for coding functions?\n",
    "\n",
    "Coding rules and guidelines ensure that software is:\n",
    "\n",
    "Safe: It can be used without causing harm.\n",
    "Secure: It can’t be hacked.\n",
    "Reliable: It functions as it should, every time.\n",
    "Testable: It can be tested at the code level.\n",
    "Maintainable: It can be maintained, even as your codebase grows.\n",
    "Portable: It works the same in every environment."
   ]
  },
  {
   "cell_type": "markdown",
   "id": "2e130576",
   "metadata": {},
   "source": [
    "#### Q7. Name three or more ways that functions can communicate results to a caller.\n",
    "\n",
    "Based on these facts, There are four different aspects of function calls.                                                    \n",
    "function without arguments and without return value.                                                       \n",
    "function without arguments and with return value.                                         \n",
    "function with arguments and without return value.                                                                        \n",
    "function with arguments and with return value."
   ]
  },
  {
   "cell_type": "code",
   "execution_count": null,
   "id": "57b847cb",
   "metadata": {},
   "outputs": [],
   "source": []
  }
 ],
 "metadata": {
  "kernelspec": {
   "display_name": "Python 3 (ipykernel)",
   "language": "python",
   "name": "python3"
  },
  "language_info": {
   "codemirror_mode": {
    "name": "ipython",
    "version": 3
   },
   "file_extension": ".py",
   "mimetype": "text/x-python",
   "name": "python",
   "nbconvert_exporter": "python",
   "pygments_lexer": "ipython3",
   "version": "3.9.7"
  }
 },
 "nbformat": 4,
 "nbformat_minor": 5
}

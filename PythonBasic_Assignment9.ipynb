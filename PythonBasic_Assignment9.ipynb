{
 "cells": [
  {
   "cell_type": "markdown",
   "id": "16a4e8d7",
   "metadata": {},
   "source": [
    "#### Q1. To what does a relative path refer?\n",
    "\n",
    "A relative path in Python is a path that describes the location of a directory relative to the entry point where you run the Python script.\n",
    "\n",
    "So let’s say you run your Python code in ~/home/projects/example-project/app.py.\n",
    "\n",
    " A relative path usually starts with /, ./ or ../.\n",
    " \n",
    " Relarive path start with current working directory. there is no need for start with root directory."
   ]
  },
  {
   "cell_type": "code",
   "execution_count": 3,
   "id": "e566fc40",
   "metadata": {},
   "outputs": [],
   "source": [
    "import os"
   ]
  },
  {
   "cell_type": "code",
   "execution_count": 4,
   "id": "733795bf",
   "metadata": {},
   "outputs": [
    {
     "data": {
      "text/plain": [
       "'C:\\\\Users\\\\Sarvesh'"
      ]
     },
     "execution_count": 4,
     "metadata": {},
     "output_type": "execute_result"
    }
   ],
   "source": [
    "os.getcwd()"
   ]
  },
  {
   "cell_type": "code",
   "execution_count": 5,
   "id": "5b962219",
   "metadata": {},
   "outputs": [],
   "source": [
    "start = \"C:/Users/\""
   ]
  },
  {
   "cell_type": "code",
   "execution_count": 8,
   "id": "d94ae968",
   "metadata": {},
   "outputs": [],
   "source": [
    "path = \"C:/Users/Sarvesh/Desktop/Python_Assignment/Python\""
   ]
  },
  {
   "cell_type": "code",
   "execution_count": 9,
   "id": "a9d689f0",
   "metadata": {},
   "outputs": [
    {
     "name": "stdout",
     "output_type": "stream",
     "text": [
      "Sarvesh\\Desktop\\Python_Assignment\\Python\n"
     ]
    }
   ],
   "source": [
    "relative_path = os.path.relpath(path, start)\n",
    "print (relative_path)"
   ]
  },
  {
   "cell_type": "markdown",
   "id": "38f0a8d9",
   "metadata": {},
   "source": [
    "#### Q2. What does an absolute path start with your operating system?\n",
    "\n",
    "Absolute Path is the hierarchical path that allows you to locate a file or folder in a file system from the root. The absolute path of a file allows you to specify the exact location of the file, regardless of the location of the user's current directory.\n",
    "\n",
    "##### Path = \"C:/Users/Sarvesh/Desktop/Python_Assignment/Python\"\n",
    "\n",
    "this path showes the excat location of assignment."
   ]
  },
  {
   "cell_type": "markdown",
   "id": "5e9509fd",
   "metadata": {},
   "source": [
    "#### Q3. What do the functions os.getcwd() and os.chdir() do?\n",
    "\n",
    "OS module in Python provides functions for interacting with the operating system. OS, comes under Python’s standard utility modules. This module provides a portable way of using operating system dependent functionality. \n",
    "\n",
    "\n",
    "### Use of os.getcwd() \n",
    "To know the current working directory of the file, getcwd() method can be used. After changing the path, one can verify the path of current working directory using this method. \n",
    "\n",
    "### os.chdir() method in Python \n",
    "It is Used to change the current working directory to specified path. It takes only a single argument as new directory path."
   ]
  },
  {
   "cell_type": "code",
   "execution_count": 10,
   "id": "5fb03019",
   "metadata": {},
   "outputs": [
    {
     "data": {
      "text/plain": [
       "'C:\\\\Users\\\\Sarvesh'"
      ]
     },
     "execution_count": 10,
     "metadata": {},
     "output_type": "execute_result"
    }
   ],
   "source": [
    "os.getcwd()"
   ]
  },
  {
   "cell_type": "code",
   "execution_count": 18,
   "id": "93853067",
   "metadata": {},
   "outputs": [],
   "source": [
    "os.chdir(\"F:\\Python_Assignment\")"
   ]
  },
  {
   "cell_type": "code",
   "execution_count": 19,
   "id": "67a560d2",
   "metadata": {},
   "outputs": [
    {
     "data": {
      "text/plain": [
       "'F:\\\\Python_Assignment'"
      ]
     },
     "execution_count": 19,
     "metadata": {},
     "output_type": "execute_result"
    }
   ],
   "source": [
    "os.getcwd()"
   ]
  },
  {
   "cell_type": "markdown",
   "id": "6e6227de",
   "metadata": {},
   "source": [
    "#### Q4. What are the . and .. folders?\n",
    "\n",
    "The . (single dot) is the child folder, and .. is the parent folder."
   ]
  },
  {
   "cell_type": "markdown",
   "id": "6a266ed4",
   "metadata": {},
   "source": [
    "#### Q5. In C:\\bacon\\eggs\\spam.txt, which part is the dir name, and which part is the base name?\n",
    "\n",
    "C:\\bacon\\eggs is the dir name, while spam.txt is the base name.\n"
   ]
  },
  {
   "cell_type": "code",
   "execution_count": 23,
   "id": "02f641e3",
   "metadata": {},
   "outputs": [
    {
     "name": "stdout",
     "output_type": "stream",
     "text": [
      "spam.txt\n"
     ]
    }
   ],
   "source": [
    "path = 'C:\\bacon\\eggs\\spam.txt'\n",
    "basename = os.path.basename(path) \n",
    "print (basename)"
   ]
  },
  {
   "cell_type": "markdown",
   "id": "abf17f21",
   "metadata": {},
   "source": [
    "#### Q6. What are the three “mode” arguments that can be passed to the open() function?\n",
    "\n",
    "The string 'r' for read mode, 'w' for write mode, and 'a' for append mode"
   ]
  },
  {
   "cell_type": "code",
   "execution_count": 24,
   "id": "2c0fdf78",
   "metadata": {},
   "outputs": [
    {
     "name": "stdout",
     "output_type": "stream",
     "text": [
      "Python langauge is best for DSA\n"
     ]
    }
   ],
   "source": [
    "#Syntax: open(file_name, mode) \n",
    "# Parameters:\n",
    "# file_name: This parameter as the name suggests, is the name of the file that we want to open.\n",
    "\n",
    "my_file = open(\"Python langauge.txt\", \"w\")\n",
    "my_file.write(\"Python langauge is best for DSA\")\n",
    "my_file.close()\n",
    "  \n",
    "#let's read the contents of the file now\n",
    "my_file = open(\"Python langauge.txt\",\"r\")\n",
    "print(my_file.read())"
   ]
  },
  {
   "cell_type": "markdown",
   "id": "4014148d",
   "metadata": {},
   "source": [
    "#### Q7. What happens if an existing file is opened in write mode?\n",
    "\n",
    "An existing file opened in write mode is erased and completely overwritten."
   ]
  },
  {
   "cell_type": "markdown",
   "id": "6f065f5b",
   "metadata": {},
   "source": [
    "#### Q8. How do you tell the difference between read() and readlines()?\n",
    "\n",
    "The read() method returns the file's entire contents as a single string value. The readlines() method returns a list of strings, where each string is a line from the file's contents."
   ]
  },
  {
   "cell_type": "markdown",
   "id": "334082bb",
   "metadata": {},
   "source": [
    "#### Q9. What data structure does a shelf value resemble?\n",
    "\n",
    "A shelf value resembles a dictionary value; it has keys and values, along with keys() and values() methods that work similarly to the dictionary methods of the same names."
   ]
  },
  {
   "cell_type": "code",
   "execution_count": null,
   "id": "c0f5ca1b",
   "metadata": {},
   "outputs": [],
   "source": []
  }
 ],
 "metadata": {
  "kernelspec": {
   "display_name": "Python 3 (ipykernel)",
   "language": "python",
   "name": "python3"
  },
  "language_info": {
   "codemirror_mode": {
    "name": "ipython",
    "version": 3
   },
   "file_extension": ".py",
   "mimetype": "text/x-python",
   "name": "python",
   "nbconvert_exporter": "python",
   "pygments_lexer": "ipython3",
   "version": "3.9.7"
  }
 },
 "nbformat": 4,
 "nbformat_minor": 5
}

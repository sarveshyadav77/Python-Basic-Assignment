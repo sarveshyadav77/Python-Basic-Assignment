{
 "cells": [
  {
   "cell_type": "markdown",
   "id": "7628cc6c",
   "metadata": {},
   "source": [
    "#### Q1. What does an empty dictionary's code look like?\n",
    "\n",
    "To create an empty dictionary, the dictionary should be set to {}"
   ]
  },
  {
   "cell_type": "code",
   "execution_count": 2,
   "id": "c1f5ae69",
   "metadata": {},
   "outputs": [
    {
     "data": {
      "text/plain": [
       "dict"
      ]
     },
     "execution_count": 2,
     "metadata": {},
     "output_type": "execute_result"
    }
   ],
   "source": [
    "Disct = {}\n",
    "type(Disct)"
   ]
  },
  {
   "cell_type": "markdown",
   "id": "35976b4b",
   "metadata": {},
   "source": [
    "#### Q2. What is the value of a dictionary value with the key 'foo' and the value 42?"
   ]
  },
  {
   "cell_type": "code",
   "execution_count": 16,
   "id": "330a48c4",
   "metadata": {},
   "outputs": [
    {
     "name": "stdout",
     "output_type": "stream",
     "text": [
      "42\n"
     ]
    }
   ],
   "source": [
    "d = {\"foo\": 42,}\n",
    "type(d)\n",
    "print(d[\"foo\"])"
   ]
  },
  {
   "cell_type": "code",
   "execution_count": 17,
   "id": "a70722a0",
   "metadata": {},
   "outputs": [
    {
     "name": "stdout",
     "output_type": "stream",
     "text": [
      "42\n"
     ]
    }
   ],
   "source": [
    "d = {\"foo\": 42,}\n",
    "print(d.get(\"foo\"))"
   ]
  },
  {
   "cell_type": "markdown",
   "id": "e37be5fa",
   "metadata": {},
   "source": [
    "#### Q3. What is the most significant distinction between a dictionary and a list?\n",
    "\n",
    "Lists are just like the arrays, declared in other languages. Lists need not be homogeneous always which makes it a most powerful tool in Python. A single list may contain DataTypes like Integers, Strings, as well as Objects. Lists are mutable, and hence, they can be altered even after their creation.\n",
    "\n",
    "Dictionary holds key:value pair. Key-value is provided in the dictionary to make it more optimized. Each key-value pair in a Dictionary is separated by a colon :, whereas each key is separated by a ‘comma’.\n",
    "\n",
    "The items stored in a dictionary are unordered, while the items in a list are ordered."
   ]
  },
  {
   "cell_type": "markdown",
   "id": "43a9ea07",
   "metadata": {},
   "source": [
    "#### Q4. What happens if you try to access spam['foo'] if spam is {'bar': 100}?\n",
    "\n",
    "You get a KeyError error."
   ]
  },
  {
   "cell_type": "code",
   "execution_count": 18,
   "id": "c1886e3d",
   "metadata": {},
   "outputs": [
    {
     "ename": "KeyError",
     "evalue": "'foo'",
     "output_type": "error",
     "traceback": [
      "\u001b[1;31m---------------------------------------------------------------------------\u001b[0m",
      "\u001b[1;31mKeyError\u001b[0m                                  Traceback (most recent call last)",
      "\u001b[1;32m~\\AppData\\Local\\Temp/ipykernel_15988/414641506.py\u001b[0m in \u001b[0;36m<module>\u001b[1;34m\u001b[0m\n\u001b[0;32m      1\u001b[0m \u001b[0mspam\u001b[0m \u001b[1;33m=\u001b[0m \u001b[1;33m{\u001b[0m\u001b[1;34m'bar'\u001b[0m\u001b[1;33m:\u001b[0m \u001b[1;36m100\u001b[0m\u001b[1;33m}\u001b[0m\u001b[1;33m\u001b[0m\u001b[1;33m\u001b[0m\u001b[0m\n\u001b[1;32m----> 2\u001b[1;33m \u001b[0mspam\u001b[0m\u001b[1;33m[\u001b[0m\u001b[1;34m'foo'\u001b[0m\u001b[1;33m]\u001b[0m\u001b[1;33m\u001b[0m\u001b[1;33m\u001b[0m\u001b[0m\n\u001b[0m",
      "\u001b[1;31mKeyError\u001b[0m: 'foo'"
     ]
    }
   ],
   "source": [
    "spam = {'bar': 100}\n",
    "spam['foo']"
   ]
  },
  {
   "cell_type": "markdown",
   "id": "67b8351b",
   "metadata": {},
   "source": [
    "#### Q5. If a dictionary is stored in spam, what is the difference between the expressions 'cat' in spam and 'cat' in spam.keys()?\n",
    "\n",
    "There is no difference. The in operator checks whether a value exists as a key in the dictionary"
   ]
  },
  {
   "cell_type": "markdown",
   "id": "51281a0d",
   "metadata": {},
   "source": [
    "#### Q6. If a dictionary is stored in spam, what is the difference between the expressions 'cat' in spam and 'cat' in spam.values()?\n",
    "\n",
    "'cat' in spam checks whether there is a 'cat' key in the dictionary, while 'cat' in spam.values() checks whether there is a value 'cat' for one of the keys in spam."
   ]
  },
  {
   "cell_type": "markdown",
   "id": "2e37c458",
   "metadata": {},
   "source": [
    "#### Q7. What is a shortcut for the following code?\n",
    "if 'color' not in spam:\n",
    "spam['color'] = 'black'\n",
    "\n",
    "## spam.setdefault('color', 'black')"
   ]
  },
  {
   "cell_type": "markdown",
   "id": "96ebf18f",
   "metadata": {},
   "source": [
    "#### Q8. How do you \"pretty print\" dictionary values using which module and function?\n",
    "\n",
    "### pprint.pprint()"
   ]
  },
  {
   "cell_type": "code",
   "execution_count": null,
   "id": "b8a7d712",
   "metadata": {},
   "outputs": [],
   "source": []
  }
 ],
 "metadata": {
  "kernelspec": {
   "display_name": "Python 3 (ipykernel)",
   "language": "python",
   "name": "python3"
  },
  "language_info": {
   "codemirror_mode": {
    "name": "ipython",
    "version": 3
   },
   "file_extension": ".py",
   "mimetype": "text/x-python",
   "name": "python",
   "nbconvert_exporter": "python",
   "pygments_lexer": "ipython3",
   "version": "3.9.7"
  }
 },
 "nbformat": 4,
 "nbformat_minor": 5
}

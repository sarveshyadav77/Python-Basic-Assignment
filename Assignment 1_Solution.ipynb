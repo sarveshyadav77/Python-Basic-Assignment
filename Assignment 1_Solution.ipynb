{
 "cells": [
  {
   "cell_type": "markdown",
   "id": "d2f7d3a9",
   "metadata": {},
   "source": [
    "Q_1 In the below elements which of them are values or an expression? eg:- values can be integer or string and expressions will be mathematical operators.\n",
    "\n",
    "#   * \n",
    "# 'hello'\n",
    "# -87.8\n",
    "# - \n",
    "# / \n",
    "# +\t\n",
    "# 6 \n"
   ]
  },
  {
   "cell_type": "markdown",
   "id": "337ebe89",
   "metadata": {},
   "source": [
    "Values = -87.7, 6, \"Hello\""
   ]
  },
  {
   "cell_type": "markdown",
   "id": "60860b69",
   "metadata": {},
   "source": [
    "Expressions = *, -, / ,+"
   ]
  },
  {
   "cell_type": "markdown",
   "id": "2f689db3",
   "metadata": {},
   "source": [
    "## Q2. What is the difference between string and variable?\n",
    "\n",
    "Variable is name of location where you store string and values where as string is any thing which is written inside the quotes.\n"
   ]
  },
  {
   "cell_type": "markdown",
   "id": "b293ce03",
   "metadata": {},
   "source": [
    "## Q3. Describe three different data types.\n",
    "\n",
    "1-Text Type:\tstr,\n",
    "2- Numeric Types:\tint, float, complex,\n",
    "3- Sequence Types:\tlist, tuple, range,\n",
    "4- Mapping Type:\tdict,\n",
    "5- Set Types:\tset, frozenset,\n",
    "6- Boolean Type:\tbool,"
   ]
  },
  {
   "cell_type": "markdown",
   "id": "dba7afbf",
   "metadata": {},
   "source": [
    "## Q4. What is an expression made up of? What do all expressions do?\n",
    "Expression is made up of operand and its operator which are assign to produce some output.\n",
    "Expressions are representation of values, strings is also expression. \n"
   ]
  },
  {
   "cell_type": "markdown",
   "id": "3e05d714",
   "metadata": {},
   "source": [
    "## Q5. This assignment statements, like spam = 10. What is the difference between an expression and a statement?\n",
    "Expression always evaluate a values while statements does something like creating a variable."
   ]
  },
  {
   "cell_type": "markdown",
   "id": "b2b36f73",
   "metadata": {},
   "source": [
    "## Q6. After running the following code, what does the variable bacon contain?\n",
    "##### bacon = 22\n",
    "##### bacon + 1\n"
   ]
  },
  {
   "cell_type": "code",
   "execution_count": 2,
   "id": "05299e3b",
   "metadata": {},
   "outputs": [
    {
     "data": {
      "text/plain": [
       "23"
      ]
     },
     "execution_count": 2,
     "metadata": {},
     "output_type": "execute_result"
    }
   ],
   "source": [
    "bacon = 22\n",
    "bacon + 1"
   ]
  },
  {
   "cell_type": "markdown",
   "id": "c0518ac3",
   "metadata": {},
   "source": [
    "## Ans6: 23"
   ]
  },
  {
   "cell_type": "markdown",
   "id": "7503609f",
   "metadata": {},
   "source": [
    "## Q7. What should the values of the following two terms be?\n",
    "##### 'spam' + 'spamspam'\n",
    "##### 'spam' * 3\n"
   ]
  },
  {
   "cell_type": "code",
   "execution_count": 4,
   "id": "d7d03880",
   "metadata": {},
   "outputs": [
    {
     "data": {
      "text/plain": [
       "'spamspamspam'"
      ]
     },
     "execution_count": 4,
     "metadata": {},
     "output_type": "execute_result"
    }
   ],
   "source": [
    "'spam' + 'spamspam'\n"
   ]
  },
  {
   "cell_type": "code",
   "execution_count": 5,
   "id": "7cdd5dfa",
   "metadata": {},
   "outputs": [
    {
     "data": {
      "text/plain": [
       "'spamspamspam'"
      ]
     },
     "execution_count": 5,
     "metadata": {},
     "output_type": "execute_result"
    }
   ],
   "source": [
    "'spam' * 3"
   ]
  },
  {
   "cell_type": "markdown",
   "id": "9b730ac0",
   "metadata": {},
   "source": [
    "## Ans7: 'spamspamspam'"
   ]
  },
  {
   "cell_type": "markdown",
   "id": "6516f893",
   "metadata": {},
   "source": [
    "## Q8. Why is eggs a valid variable name while 100 is invalid? \n",
    "\n",
    "Variable name can't start with numeric value it can start with alpha- numeric "
   ]
  },
  {
   "cell_type": "markdown",
   "id": "aacecabc",
   "metadata": {},
   "source": [
    "## Q9. What three functions can be used to get the integer, floating-point number, or string version of a value?\n",
    "For integer it will be int, for floating-point it will be float, and for string it will be str."
   ]
  },
  {
   "cell_type": "markdown",
   "id": "7d2ef26f",
   "metadata": {},
   "source": [
    "## Q10. Why does this expression cause an error? How can you fix it?\n",
    "'I have eaten ' + 99 + ' burritos.'\n",
    "#### Ans: We can not concatenate str with int(99). for fixing this we can change 99 in to str(99)."
   ]
  },
  {
   "cell_type": "code",
   "execution_count": 7,
   "id": "a57dd3cc",
   "metadata": {},
   "outputs": [
    {
     "data": {
      "text/plain": [
       "'I have eaten 99 burritos.'"
      ]
     },
     "execution_count": 7,
     "metadata": {},
     "output_type": "execute_result"
    }
   ],
   "source": [
    "'I have eaten ' + str(99) + ' burritos.'"
   ]
  },
  {
   "cell_type": "code",
   "execution_count": null,
   "id": "00df206f",
   "metadata": {},
   "outputs": [],
   "source": []
  }
 ],
 "metadata": {
  "kernelspec": {
   "display_name": "Python 3 (ipykernel)",
   "language": "python",
   "name": "python3"
  },
  "language_info": {
   "codemirror_mode": {
    "name": "ipython",
    "version": 3
   },
   "file_extension": ".py",
   "mimetype": "text/x-python",
   "name": "python",
   "nbconvert_exporter": "python",
   "pygments_lexer": "ipython3",
   "version": "3.9.7"
  }
 },
 "nbformat": 4,
 "nbformat_minor": 5
}

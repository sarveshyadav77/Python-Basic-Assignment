{
 "cells": [
  {
   "cell_type": "code",
   "execution_count": 5,
   "id": "a86cb38f",
   "metadata": {},
   "outputs": [
    {
     "name": "stdout",
     "output_type": "stream",
     "text": [
      "1 2 8\n"
     ]
    }
   ],
   "source": [
    "### Q1. What is the result of the code, and why?\n",
    ">>> def func(a, b=6, c=8):\n",
    "    \n",
    "    print(a, b, c)\n",
    ">>> func(1, 2)\n",
    "\n",
    "# Ans. This funtion is taking a positional argument and 2 keyward argument. When function call m=is made, parameter passed \n",
    "  # are a=1,b=2. When the function is executed , parameter c=8 will be taken by default as its a keyword argument.\n",
    "   # solution is = 1,2,8"
   ]
  },
  {
   "cell_type": "markdown",
   "id": "e20782d9",
   "metadata": {},
   "source": [
    "In the above line of code when we call function (func(1,2)) it means values of a & b is 1,2 respectively and 3rd value is already fix which is same as 8."
   ]
  },
  {
   "cell_type": "code",
   "execution_count": 7,
   "id": "feeb9640",
   "metadata": {},
   "outputs": [
    {
     "name": "stdout",
     "output_type": "stream",
     "text": [
      "1 2 3\n"
     ]
    }
   ],
   "source": [
    "#### Q2. What is the result of this code, and why?\n",
    ">>> def func(a, b, c=5):\n",
    "    print(a, b, c)\n",
    ">>> func(1, c=3, b=2)\n",
    "\n",
    "# Ans. When we make function call, order will be positional argument and then keywords arguments. \n",
    "#we can pass the keyword arguments in any order we want"
   ]
  },
  {
   "cell_type": "markdown",
   "id": "75153f1c",
   "metadata": {},
   "source": [
    "It is clear from above line of code that in print line argument a, b, c is in order and when call the fuction then a, b and c will come in order."
   ]
  },
  {
   "cell_type": "code",
   "execution_count": 8,
   "id": "dcd242b6",
   "metadata": {},
   "outputs": [
    {
     "name": "stdout",
     "output_type": "stream",
     "text": [
      "1 (2, 3)\n"
     ]
    }
   ],
   "source": [
    "#### Q3. How about this code: what is its result, and why?\n",
    ">>> def func(a, *pargs):\n",
    "    print(a, pargs)\n",
    ">>> func(1, 2, 3)\n",
    "\n",
    "\n",
    "## The return type of *args parameter is tuple, where as **kargs will be dictionary"
   ]
  },
  {
   "cell_type": "code",
   "execution_count": 9,
   "id": "577937e8",
   "metadata": {},
   "outputs": [
    {
     "name": "stdout",
     "output_type": "stream",
     "text": [
      "1 {'c': 3, 'b': 2}\n"
     ]
    }
   ],
   "source": [
    "#### Q4. What does this code print, and why?\n",
    ">>> def func(a, **kargs):\n",
    "    print(a, kargs)\n",
    ">>> func(a=1, c=3, b=2)\n",
    "\n",
    "## Ans: The return type of  **kargs is  dictionary\n"
   ]
  },
  {
   "cell_type": "markdown",
   "id": "c3e5cd4d",
   "metadata": {},
   "source": [
    "In above line of code two * symbol is used for the two variables."
   ]
  },
  {
   "cell_type": "code",
   "execution_count": 10,
   "id": "611fc16e",
   "metadata": {},
   "outputs": [
    {
     "name": "stdout",
     "output_type": "stream",
     "text": [
      "1 5 6 5\n"
     ]
    }
   ],
   "source": [
    "#### Q5. What gets printed by this, and explain?\n",
    ">>> def func(a, b, c=8, d=5): \n",
    "    print(a, b, c, d)\n",
    ">>> func(1, *(5, 6))\n",
    "\n",
    "\n",
    "# '*' is the unpacking operator and are operators that unpack the values from iterable objects in Python. The single \n",
    "#    asterisk operator * can be used on any iterable that Python provides, while the double asterisk operator ** can only \n",
    " #   be used on dictionaries. In the example the value *(5,6) will be unpacked and will be assigned to b and c and passed \n",
    " #   as arguments, d =5 will taken by defaults are keyword arguments."
   ]
  },
  {
   "cell_type": "markdown",
   "id": "0116700a",
   "metadata": {},
   "source": [
    "Here single * is used for single argument for the function."
   ]
  },
  {
   "cell_type": "code",
   "execution_count": 11,
   "id": "4c453aec",
   "metadata": {},
   "outputs": [],
   "source": [
    "#### Q6. what is the result of this, and explain?\n",
    ">>> def func(a, b, c): a = 2; b[0] = 'x'; c['a'] = 'y'\n",
    ">>> l=1; m=[1]; n={'a':0}\n",
    ">>> func(l, m, n)\n",
    "\n",
    "# Ans. Here in the code, the list and dict are passed as argument, and those are mutable. Here the list l and parameter b point \n",
    "#to the same list in the memory location where as dict n and c point to the same memory location. Any updates to this \n",
    "#list will update in the memory location\n",
    "\n",
    "#l = 1 , integer values, immutable, m is list, mutable, n is dict, mutable.\n",
    "#output will be = 1,['x'],{'a':'y'}"
   ]
  }
 ],
 "metadata": {
  "kernelspec": {
   "display_name": "Python 3 (ipykernel)",
   "language": "python",
   "name": "python3"
  },
  "language_info": {
   "codemirror_mode": {
    "name": "ipython",
    "version": 3
   },
   "file_extension": ".py",
   "mimetype": "text/x-python",
   "name": "python",
   "nbconvert_exporter": "python",
   "pygments_lexer": "ipython3",
   "version": "3.9.7"
  }
 },
 "nbformat": 4,
 "nbformat_minor": 5
}

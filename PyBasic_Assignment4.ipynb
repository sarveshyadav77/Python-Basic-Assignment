{
 "cells": [
  {
   "cell_type": "markdown",
   "id": "7e3ad867",
   "metadata": {},
   "source": [
    "#### Q1. What exactly is []?\n",
    "\n",
    "The empty list value, which is a list value that contains no items"
   ]
  },
  {
   "cell_type": "markdown",
   "id": "334e43d5",
   "metadata": {},
   "source": [
    "#### Q2. In a list of values stored in a variable called spam, how would you assign the value 'hello' as the third value? (Assume [2, 4, 6, 8, 10] are in spam.)"
   ]
  },
  {
   "cell_type": "code",
   "execution_count": 7,
   "id": "197fdfd6",
   "metadata": {},
   "outputs": [
    {
     "name": "stdout",
     "output_type": "stream",
     "text": [
      "[2, 4, 'hello', 6, 8, 10]\n"
     ]
    }
   ],
   "source": [
    "spam = [2,4,6,8,10]\n",
    "spam.insert(2, \"hello\")\n",
    "print(spam)"
   ]
  },
  {
   "cell_type": "markdown",
   "id": "ae18cdb0",
   "metadata": {},
   "source": [
    "#### Let's pretend the spam includes the list ['a', 'b', 'c', 'd'] for the next three queries.\n",
    "\n",
    "Q3. What is the value of spam[int(int('3' * 2) / 11)]?"
   ]
  },
  {
   "cell_type": "code",
   "execution_count": 8,
   "id": "3ff9ab47",
   "metadata": {},
   "outputs": [
    {
     "data": {
      "text/plain": [
       "'d'"
      ]
     },
     "execution_count": 8,
     "metadata": {},
     "output_type": "execute_result"
    }
   ],
   "source": [
    "spam = ['a', 'b', 'c', 'd']\n",
    "spam[int(int('3' * 2) / 11)]"
   ]
  },
  {
   "cell_type": "markdown",
   "id": "1ec1d5c1",
   "metadata": {},
   "source": [
    "#### Q4. What is the value of spam[-1]?"
   ]
  },
  {
   "cell_type": "code",
   "execution_count": 9,
   "id": "2f16ad8a",
   "metadata": {},
   "outputs": [
    {
     "data": {
      "text/plain": [
       "'d'"
      ]
     },
     "execution_count": 9,
     "metadata": {},
     "output_type": "execute_result"
    }
   ],
   "source": [
    "spam[-1]"
   ]
  },
  {
   "cell_type": "markdown",
   "id": "7f2b34ff",
   "metadata": {},
   "source": [
    "#### Q5. What is the value of spam[:2]?"
   ]
  },
  {
   "cell_type": "code",
   "execution_count": 10,
   "id": "8630b104",
   "metadata": {},
   "outputs": [
    {
     "data": {
      "text/plain": [
       "['a', 'b']"
      ]
     },
     "execution_count": 10,
     "metadata": {},
     "output_type": "execute_result"
    }
   ],
   "source": [
    "spam[:2]"
   ]
  },
  {
   "cell_type": "markdown",
   "id": "b293e7af",
   "metadata": {},
   "source": [
    "#### Let's pretend bacon has the list [3.14, 'cat,' 11, 'cat,' True] for the next three questions.\n",
    "Q6. What is the value of bacon.index('cat')?"
   ]
  },
  {
   "cell_type": "code",
   "execution_count": 17,
   "id": "7c92ab6e",
   "metadata": {},
   "outputs": [
    {
     "data": {
      "text/plain": [
       "1"
      ]
     },
     "execution_count": 17,
     "metadata": {},
     "output_type": "execute_result"
    }
   ],
   "source": [
    "bacon = [3.14, 'cat', 11, 'cat', True]\n",
    "bacon.index('cat')"
   ]
  },
  {
   "cell_type": "markdown",
   "id": "72ad48b1",
   "metadata": {},
   "source": [
    "#### Q7. How does bacon.append(99) change the look of the list value in bacon?"
   ]
  },
  {
   "cell_type": "code",
   "execution_count": 18,
   "id": "585ca729",
   "metadata": {},
   "outputs": [
    {
     "name": "stdout",
     "output_type": "stream",
     "text": [
      "[3.14, 'cat', 11, 'cat', True, 99]\n"
     ]
    }
   ],
   "source": [
    "bacon.append(99)\n",
    "print(bacon)"
   ]
  },
  {
   "cell_type": "markdown",
   "id": "8a71a759",
   "metadata": {},
   "source": [
    "#### Q8. How does bacon.remove('cat') change the look of the list in bacon?"
   ]
  },
  {
   "cell_type": "code",
   "execution_count": 20,
   "id": "82b00215",
   "metadata": {},
   "outputs": [
    {
     "name": "stdout",
     "output_type": "stream",
     "text": [
      "[3.14, 11, 'cat', True, 99]\n"
     ]
    }
   ],
   "source": [
    "bacon.remove('cat') \n",
    "print(bacon)"
   ]
  },
  {
   "cell_type": "markdown",
   "id": "9200c9b8",
   "metadata": {},
   "source": [
    "#### Q9. What are the list concatenation and list replication operators?\n",
    "\n",
    "The operator for list concatenation is +, while the operator for replication is *\n"
   ]
  },
  {
   "cell_type": "code",
   "execution_count": 22,
   "id": "fb52db1d",
   "metadata": {},
   "outputs": [
    {
     "name": "stdout",
     "output_type": "stream",
     "text": [
      "['a', 'b', 'c', 'd', 3.14, 11, 'cat', True, 99]\n"
     ]
    }
   ],
   "source": [
    "Concatnate = spam+bacon\n",
    "print (Concatnate)"
   ]
  },
  {
   "cell_type": "code",
   "execution_count": 26,
   "id": "5728a9d8",
   "metadata": {},
   "outputs": [
    {
     "name": "stdout",
     "output_type": "stream",
     "text": [
      "['a', 'b', 'c', 'd', 'a', 'b', 'c', 'd', 'a', 'b', 'c', 'd', 'a', 'b', 'c', 'd']\n"
     ]
    }
   ],
   "source": [
    "replication = spam*4\n",
    "print(replication)"
   ]
  },
  {
   "cell_type": "markdown",
   "id": "972bdf5f",
   "metadata": {},
   "source": [
    "#### Q10 What is difference between the list methods append() and insert()?\n",
    "\n",
    "The only difference between append() and insert() is that insert function allows us to add a specific element at a specified index of the list unlike append() where we can add the element only at end of the list."
   ]
  },
  {
   "cell_type": "markdown",
   "id": "7267f643",
   "metadata": {},
   "source": [
    "#### Q11. What are the two methods for removing items from a list?\n",
    "\n",
    "The methods are remove(), pop() and clear(). It helps to remove the very first given element matching from the list. The pop() method removes an element from the list based on the index given. The clear() method will remove all the elements present in the list."
   ]
  },
  {
   "cell_type": "code",
   "execution_count": 36,
   "id": "aac88c73",
   "metadata": {},
   "outputs": [
    {
     "name": "stdout",
     "output_type": "stream",
     "text": [
      "['a', 't', 1, 4, 7, 8]\n"
     ]
    }
   ],
   "source": [
    "list1 = ['a', 'b', 't', 1,4,7,8]\n",
    "list1.remove('b')\n",
    "print(list1)"
   ]
  },
  {
   "cell_type": "code",
   "execution_count": 38,
   "id": "a6933dc5",
   "metadata": {},
   "outputs": [
    {
     "name": "stdout",
     "output_type": "stream",
     "text": [
      "['a', 'b', 1, 4, 7, 8]\n"
     ]
    }
   ],
   "source": [
    "list1 = ['a', 'b', 't', 1,4,7,8]\n",
    "list1.pop(2)\n",
    "print(list1)"
   ]
  },
  {
   "cell_type": "code",
   "execution_count": 39,
   "id": "c129ad6b",
   "metadata": {},
   "outputs": [
    {
     "name": "stdout",
     "output_type": "stream",
     "text": [
      "[]\n"
     ]
    }
   ],
   "source": [
    "list1 = ['a', 'b', 't', 1,4,7,8]\n",
    "list1.clear()\n",
    "print(list1)"
   ]
  },
  {
   "cell_type": "markdown",
   "id": "4ab84c00",
   "metadata": {},
   "source": [
    "#### Q12.Describe how list values and string values are identical.\n",
    "\n",
    "Both strings and lists have lengths: a string's length is the number of characters in the string; a list's length is the number of items in the list. Each character in a string as well as each item in a list has a position, also called an index."
   ]
  },
  {
   "cell_type": "markdown",
   "id": "d345e15d",
   "metadata": {},
   "source": [
    "#### Q13. What's the difference between tuples and lists?\n",
    "\n",
    "The primary difference between tuples and lists is that tuples are immutable as opposed to lists which are mutable. Therefore, it is possible to change a list but not a tuple."
   ]
  },
  {
   "cell_type": "markdown",
   "id": "aefd3a4d",
   "metadata": {},
   "source": [
    "#### Q14.  How do you type a tuple value that only contains the integer 42?\n",
    "\n"
   ]
  },
  {
   "cell_type": "code",
   "execution_count": 45,
   "id": "60f26b69",
   "metadata": {},
   "outputs": [
    {
     "name": "stdout",
     "output_type": "stream",
     "text": [
      "(42,)\n"
     ]
    }
   ],
   "source": [
    "tup = (42,)\n",
    "print (tup)"
   ]
  },
  {
   "cell_type": "markdown",
   "id": "3535ea35",
   "metadata": {},
   "source": [
    "### Q15. How do you get a list value's tuple form? How do you get a tuple value's list form?\n",
    "\n"
   ]
  },
  {
   "cell_type": "code",
   "execution_count": 46,
   "id": "cd6f1e04",
   "metadata": {},
   "outputs": [
    {
     "name": "stdout",
     "output_type": "stream",
     "text": [
      "('Compile', 'With', 'Favtutor')\n"
     ]
    }
   ],
   "source": [
    "sample_list = ['Compile', 'With', 'Favtutor']\n",
    "tup = tuple(sample_list)\n",
    "print(tup)"
   ]
  },
  {
   "cell_type": "markdown",
   "id": "ce089f72",
   "metadata": {},
   "source": [
    "#### Q16.  Variables that \"contain\" list values are not necessarily lists themselves. Instead, what do they contain?\n",
    "\n",
    "Variables will contain references to list values rather than list values themselves. But for strings and integer values, variables simply contain the string or integer value."
   ]
  },
  {
   "cell_type": "markdown",
   "id": "9fe95258",
   "metadata": {},
   "source": [
    "#### Q17. How do you distinguish between copy.copy() and copy.deepcopy()?\n",
    "\n",
    "copy() create reference to original object. If you change copied object - you change the original object. . deepcopy() creates new object and does real copying of original object to new one."
   ]
  },
  {
   "cell_type": "code",
   "execution_count": null,
   "id": "b06845a1",
   "metadata": {},
   "outputs": [],
   "source": []
  }
 ],
 "metadata": {
  "kernelspec": {
   "display_name": "Python 3 (ipykernel)",
   "language": "python",
   "name": "python3"
  },
  "language_info": {
   "codemirror_mode": {
    "name": "ipython",
    "version": 3
   },
   "file_extension": ".py",
   "mimetype": "text/x-python",
   "name": "python",
   "nbconvert_exporter": "python",
   "pygments_lexer": "ipython3",
   "version": "3.9.7"
  }
 },
 "nbformat": 4,
 "nbformat_minor": 5
}

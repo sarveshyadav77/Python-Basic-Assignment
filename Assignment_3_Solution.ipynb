{
 "cells": [
  {
   "cell_type": "markdown",
   "id": "ada52ace",
   "metadata": {},
   "source": [
    "#### Q1. Why are functions advantageous to have in your programs?\n",
    "With the help of function we can reduce the size of code and there is no need to write same code again and again but simply we can call it by using that function.\n"
   ]
  },
  {
   "cell_type": "markdown",
   "id": "18d72b31",
   "metadata": {},
   "source": [
    "#### Q2. When does the code in a function run: when it's specified or when it's called?\n",
    "\n",
    "When it is called."
   ]
  },
  {
   "cell_type": "markdown",
   "id": "a469c7c9",
   "metadata": {},
   "source": [
    "#### Q3. What statement creates a function?\n",
    "\n",
    "A function is defined by using the def keyword which is followed by parentheses which may be empaty or have any parameter which are required. "
   ]
  },
  {
   "cell_type": "markdown",
   "id": "1c2ff7c5",
   "metadata": {},
   "source": [
    "#### Q4. What is the difference between a function and a function call?\n",
    "\n",
    "function is defined by def followed by any name as per our requirement and this name is called during our programming is known as call function."
   ]
  },
  {
   "cell_type": "code",
   "execution_count": 8,
   "id": "fa42a7af",
   "metadata": {},
   "outputs": [
    {
     "name": "stdout",
     "output_type": "stream",
     "text": [
      "10\n",
      "**********************************************************************\n",
      "25\n"
     ]
    }
   ],
   "source": [
    "def sum(y):\n",
    "    return (y+y)\n",
    "print(sum(5))\n",
    "\n",
    "print(\"**********************************************************************\")\n",
    "def squr(y):\n",
    "    return (y*y)\n",
    "print(squr(5))\n",
    "    \n"
   ]
  },
  {
   "cell_type": "markdown",
   "id": "5c36ed68",
   "metadata": {},
   "source": [
    "#### Q5. How many global scopes are there in a Python program? How many local scopes?\n",
    "\n",
    "You will learn about the four different scopes with the help of examples: local, enclosing, global, and built-in. These scopes together form the basis for the LEGB rule used by the Python interpreter when working with variables.\n",
    "local scopes only work within the function and global scopes work in  through out the function.\n",
    "\n",
    "\n"
   ]
  },
  {
   "cell_type": "markdown",
   "id": "2481b0e3",
   "metadata": {},
   "source": [
    "#### Q7. What is the concept of a return value? Is it possible to have a return value in an expression?\n",
    "\n",
    "In general, a function takes arguments (if any), performs some operations, and returns a value (or object). The value that a function returns to the caller is generally known as the function’s return value. All Python functions have a return value.\n",
    "\n",
    "if expression doesnot have caller function then its not possible to have return value.\n"
   ]
  },
  {
   "cell_type": "markdown",
   "id": "202025c6",
   "metadata": {},
   "source": [
    "#### Q8. If a function does not have a return statement, what is the return value of a call to that function?\n",
    "\n",
    "If you don't explicitly use a return value in a return statement, or if you totally omit the return statement, then Python will implicitly return a default value for you. That default return value will always be None ."
   ]
  },
  {
   "cell_type": "markdown",
   "id": "55a4abcd",
   "metadata": {},
   "source": [
    "#### Q9. How do you make a function variable refer to the global variable?\n",
    "\n",
    "Normally, when you create a variable inside a function, that variable is local, and can only be used inside that function.\n",
    "To create a global variable inside a function, you can use the global keyword."
   ]
  },
  {
   "cell_type": "code",
   "execution_count": 10,
   "id": "38464c19",
   "metadata": {},
   "outputs": [
    {
     "name": "stdout",
     "output_type": "stream",
     "text": [
      "Python is fantastic\n"
     ]
    }
   ],
   "source": [
    "def myfunc():\n",
    "  global x\n",
    "  x = \"fantastic\"\n",
    "\n",
    "myfunc()\n",
    "\n",
    "print(\"Python is \" + x)"
   ]
  },
  {
   "cell_type": "markdown",
   "id": "198a1482",
   "metadata": {},
   "source": [
    "#### Q10. What is the data type of None?\n",
    "\n",
    "The None keyword is used to define a null value, or no value at all. None is not the same as 0, False, or an empty string. None is a data type of its own (NoneType) and only None can be None."
   ]
  },
  {
   "cell_type": "code",
   "execution_count": 11,
   "id": "fefc009c",
   "metadata": {},
   "outputs": [
    {
     "data": {
      "text/plain": [
       "NoneType"
      ]
     },
     "execution_count": 11,
     "metadata": {},
     "output_type": "execute_result"
    }
   ],
   "source": [
    "type(None)"
   ]
  },
  {
   "cell_type": "markdown",
   "id": "5241be9e",
   "metadata": {},
   "source": [
    "#### Q12. If you had a bacon() feature in a spam module, what would you call it after importing spam?\n",
    "\n",
    "This function can be called with spam. bacon()."
   ]
  },
  {
   "cell_type": "markdown",
   "id": "eade3bb6",
   "metadata": {},
   "source": [
    "#### Q13. What can you do to save a programme from crashing if it encounters an error?\n",
    "\n",
    "In Python, we use the try and except statements to handle exceptions. Whenever the code breaks down, an exception is thrown without crashing the program. Let's modify the add number program to include the try and except statements."
   ]
  },
  {
   "cell_type": "code",
   "execution_count": 12,
   "id": "e43dc2be",
   "metadata": {},
   "outputs": [
    {
     "name": "stdout",
     "output_type": "stream",
     "text": [
      "Error occurred : can only concatenate str (not \"int\") to str\n"
     ]
    }
   ],
   "source": [
    "def addNumbers(a, b):\n",
    "    try:\n",
    "        return a + b\n",
    "    except Exception as e:\n",
    "        return 'Error occurred : ' + str(e)\n",
    "  \n",
    "print(addNumbers('', 10))"
   ]
  },
  {
   "cell_type": "markdown",
   "id": "ca864558",
   "metadata": {},
   "source": [
    "#### Q14. What is the purpose of the try clause? What is the purpose of the except clause?\n",
    "\n",
    "The try block lets you test a block of code for errors.\n",
    "\n",
    "The except block lets you handle the error.\n",
    "\n",
    "The else block lets you execute code when there is no error.\n",
    "\n",
    "The finally block lets you execute code, regardless of the result of the try- and except blocks.\n",
    "\n"
   ]
  },
  {
   "cell_type": "code",
   "execution_count": 15,
   "id": "d3859201",
   "metadata": {},
   "outputs": [
    {
     "name": "stdout",
     "output_type": "stream",
     "text": [
      "An exception occurred\n"
     ]
    }
   ],
   "source": [
    "try:\n",
    "  print(z)\n",
    "except:\n",
    "  print(\"An exception occurred\")"
   ]
  },
  {
   "cell_type": "code",
   "execution_count": null,
   "id": "c35732e1",
   "metadata": {},
   "outputs": [],
   "source": []
  }
 ],
 "metadata": {
  "kernelspec": {
   "display_name": "Python 3 (ipykernel)",
   "language": "python",
   "name": "python3"
  },
  "language_info": {
   "codemirror_mode": {
    "name": "ipython",
    "version": 3
   },
   "file_extension": ".py",
   "mimetype": "text/x-python",
   "name": "python",
   "nbconvert_exporter": "python",
   "pygments_lexer": "ipython3",
   "version": "3.9.7"
  }
 },
 "nbformat": 4,
 "nbformat_minor": 5
}

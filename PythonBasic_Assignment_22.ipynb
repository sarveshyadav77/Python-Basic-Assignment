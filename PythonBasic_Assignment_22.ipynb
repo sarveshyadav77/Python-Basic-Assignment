{
 "cells": [
  {
   "cell_type": "code",
   "execution_count": 6,
   "id": "0054fe61",
   "metadata": {},
   "outputs": [
    {
     "name": "stdout",
     "output_type": "stream",
     "text": [
      "iNeuron\n"
     ]
    }
   ],
   "source": [
    "### Q1. What is the result of the code, and explain?\n",
    "\n",
    "\n",
    "X = 'iNeuron'\n",
    "def func():\n",
    "    print(X)\n",
    "\n",
    "func()\n"
   ]
  },
  {
   "cell_type": "code",
   "execution_count": 7,
   "id": "4cf4d75a",
   "metadata": {},
   "outputs": [],
   "source": [
    "#Ans. The global variables are accessible in side the functions in python. \n",
    "#But we can not access function variable out side function. \n",
    "#Since x is global variable we are able to print it in side the function solution : 'iNeuron'"
   ]
  },
  {
   "cell_type": "code",
   "execution_count": 10,
   "id": "567c8ae6",
   "metadata": {},
   "outputs": [
    {
     "name": "stdout",
     "output_type": "stream",
     "text": [
      "iNeuron\n"
     ]
    }
   ],
   "source": [
    "\n",
    "### 2. What is the result of the code, and explain?\n",
    "\n",
    "\n",
    "X = 'iNeuron'\n",
    "def func():\n",
    "    X = 'NI!'\n",
    "\n",
    "func()\n",
    "print(X)\n"
   ]
  },
  {
   "cell_type": "code",
   "execution_count": 11,
   "id": "d9a52f1d",
   "metadata": {},
   "outputs": [],
   "source": [
    "#Ans. The global variables are accessible in side the functions in python. \n",
    "#But we can not access function variable out side function. and In the above question variable which are inside the function \n",
    "#can not be access outside the function."
   ]
  },
  {
   "cell_type": "code",
   "execution_count": 13,
   "id": "c15badc9",
   "metadata": {},
   "outputs": [
    {
     "name": "stdout",
     "output_type": "stream",
     "text": [
      "iNeuron\n",
      "iNeuron\n"
     ]
    }
   ],
   "source": [
    "## Q3. What does this code print, and why?\n",
    "\n",
    "\n",
    "X = 'iNeuron'\n",
    "def func():\n",
    "    X = 'NI'\n",
    "print(X)\n",
    "\n",
    "\n",
    "func()\n",
    "print(X)\n"
   ]
  },
  {
   "cell_type": "code",
   "execution_count": 14,
   "id": "30393f99",
   "metadata": {},
   "outputs": [],
   "source": [
    "# In the above line of code there are two print function, one is inside the function and other is outside the function.\n",
    "# Global variable may be print either inside or outside and local variable can only be print inside the function."
   ]
  },
  {
   "cell_type": "code",
   "execution_count": 20,
   "id": "8d3a994f",
   "metadata": {},
   "outputs": [
    {
     "name": "stdout",
     "output_type": "stream",
     "text": [
      "NI\n",
      "NI\n"
     ]
    }
   ],
   "source": [
    "# 4. What output does this code produce? Why?\n",
    "\n",
    "\n",
    "X = 'iNeuron'\n",
    "def func():\n",
    "    global X\n",
    "    X = 'NI'\n",
    "    print(X)\n",
    "\n",
    "\n",
    "func()\n",
    "print(X)"
   ]
  },
  {
   "cell_type": "code",
   "execution_count": 21,
   "id": "41f19042",
   "metadata": {},
   "outputs": [],
   "source": [
    "#Ans. since the X in side function is made Global, it will be accesible out side of the function too. \n",
    "#now X will have new value."
   ]
  },
  {
   "cell_type": "code",
   "execution_count": 22,
   "id": "f1237c87",
   "metadata": {},
   "outputs": [
    {
     "data": {
      "text/plain": [
       "'iNeuron'"
      ]
     },
     "execution_count": 22,
     "metadata": {},
     "output_type": "execute_result"
    }
   ],
   "source": [
    "# Q5. What about this code—what’s the output, and why?\n",
    "\n",
    "\n",
    "X = 'iNeuron'\n",
    "def func():\n",
    "    X = 'NI'\n",
    "def nested():\n",
    "    print(X)\n",
    "    nested()\n",
    "\n",
    "\n",
    "func()\n",
    "X\n"
   ]
  },
  {
   "cell_type": "code",
   "execution_count": 24,
   "id": "26dab1ad",
   "metadata": {},
   "outputs": [
    {
     "name": "stdout",
     "output_type": "stream",
     "text": [
      "NI\n"
     ]
    },
    {
     "data": {
      "text/plain": [
       "'iNeuron'"
      ]
     },
     "execution_count": 24,
     "metadata": {},
     "output_type": "execute_result"
    }
   ],
   "source": [
    "#Ans. the nested() function will print 'iNeuron', Then func() does not display anything,\n",
    "# and x ='NI' is not accessible out \n",
    "#side the function.\n",
    "#Solution : 'iNeuron'\n",
    "\n",
    "# X = NI is a local variable that can be accessed by that can be print by local variable.\n",
    "\n",
    "X = 'iNeuron'\n",
    "def func():\n",
    "    X = 'NI'\n",
    "    print(X)\n",
    "def nested():\n",
    "    print(X)\n",
    "    nested()\n",
    "\n",
    "\n",
    "func()\n",
    "X"
   ]
  },
  {
   "cell_type": "code",
   "execution_count": 30,
   "id": "39b45980",
   "metadata": {},
   "outputs": [
    {
     "name": "stdout",
     "output_type": "stream",
     "text": [
      "Spam\n"
     ]
    }
   ],
   "source": [
    "\n",
    "# Q6. How about this code: what is its output in Python 3, and explain?\n",
    "\n",
    "def func():\n",
    "    X = 'NI'\n",
    "    def nested():\n",
    "        nonlocal X\n",
    "        X = 'Spam'\n",
    "    nested()\n",
    "    print(X)\n",
    "func()"
   ]
  },
  {
   "cell_type": "code",
   "execution_count": 31,
   "id": "d69965da",
   "metadata": {},
   "outputs": [],
   "source": [
    "#Nonlocal variables are used in nested functions whose local scope is not defined. \n",
    "#This means that the variable can be neither in the local nor the global scope. it print the updated value from nested \n",
    "#function"
   ]
  },
  {
   "cell_type": "code",
   "execution_count": null,
   "id": "c9a62439",
   "metadata": {},
   "outputs": [],
   "source": []
  }
 ],
 "metadata": {
  "kernelspec": {
   "display_name": "Python 3 (ipykernel)",
   "language": "python",
   "name": "python3"
  },
  "language_info": {
   "codemirror_mode": {
    "name": "ipython",
    "version": 3
   },
   "file_extension": ".py",
   "mimetype": "text/x-python",
   "name": "python",
   "nbconvert_exporter": "python",
   "pygments_lexer": "ipython3",
   "version": "3.9.7"
  }
 },
 "nbformat": 4,
 "nbformat_minor": 5
}

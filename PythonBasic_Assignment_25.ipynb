{
 "cells": [
  {
   "cell_type": "markdown",
   "id": "7d83630e",
   "metadata": {},
   "source": [
    "#### Q1.  What is the difference between enclosing a list comprehension in square brackets and parentheses?\n",
    "\n",
    "Square brackets are lists while parentheses are tuples.\n",
    "\n",
    "The square brackets tell Python that this is a list comprehension, producing a list.  If you use curly braces, you’ll get either a set or a dict back, and if you use regular parentheses, you’ll get a generator expression."
   ]
  },
  {
   "cell_type": "markdown",
   "id": "4c14d790",
   "metadata": {},
   "source": [
    "#### Q2) What is the relationship between generators and iterators?\n",
    "\n",
    "Iterators are the objects that use the next() method to get the next value of the sequence. A generator is a function that produces or yields a sequence of values using a yield statement."
   ]
  },
  {
   "cell_type": "markdown",
   "id": "d702c135",
   "metadata": {},
   "source": [
    "#### Q3) What are the signs that a function is a generator function?\n",
    "\n",
    "A generator function is a function with one or more yield statements in it. Unlike regular functions, generator functions return generator objects. Meaning, when you call a generator function, it doesn't run the functio"
   ]
  },
  {
   "cell_type": "code",
   "execution_count": 17,
   "id": "5327204b",
   "metadata": {},
   "outputs": [],
   "source": [
    "sqr_list = []\n",
    "def gen_odd(n):\n",
    "    for i in range(n):\n",
    "        yield (i*i)\n",
    "        #sqr_list.append(Sqr)\n",
    "#print(Sqr)"
   ]
  },
  {
   "cell_type": "code",
   "execution_count": 24,
   "id": "393e20bc",
   "metadata": {},
   "outputs": [
    {
     "name": "stdout",
     "output_type": "stream",
     "text": [
      "0\n",
      "1\n",
      "4\n",
      "9\n",
      "16\n",
      "25\n",
      "36\n",
      "49\n",
      "64\n",
      "81\n"
     ]
    }
   ],
   "source": [
    "for i in gen_odd(10):\n",
    "    a = print (i)"
   ]
  },
  {
   "cell_type": "markdown",
   "id": "cad916b2",
   "metadata": {},
   "source": [
    "#### Q4) What is the purpose of a yield statement?\n",
    "\n",
    "We should use yield when we want to iterate over a sequence, but don't want to store the entire sequence in memory. Yield are used in Python generators. A generator function is defined like a normal function, but whenever it needs to generate a value, it does so with the yield keyword rather than return."
   ]
  },
  {
   "cell_type": "markdown",
   "id": "08c50b9f",
   "metadata": {},
   "source": [
    "#### Q5) What is the relationship between map calls and list comprehensions? Make a comparison and contrast between the two.\n",
    "\n",
    "List comprehension returns a list, whereas the map function returns an object of Iterable. List comprehension execution is faster than that of map function when the formula expression is huge and complex. Map function is faster than list comprehension when the formula is already defined as a function earlier\n",
    "\n",
    "\n",
    "Map VS List Comprehension,                                                                                        \n",
    "List comprehension is more concise and easier to read as compared to map.  \n",
    "List comprehension allows filtering. In map, we have no such facility. For example, to print all even numbers in range of 100, we can write [n for n in range(100) if n%2 == 0]. There is no alternate for it in map  \n",
    "List comprehension are used when a list of results is required as map only returns a map object and does not return any list.  \n",
    "List comprehension is faster than map when we need to evaluate expressions that are too long or complicated to express \n",
    "Map is faster in case of calling an already defined function (as no lambda is required).  "
   ]
  },
  {
   "cell_type": "code",
   "execution_count": null,
   "id": "04a62cbb",
   "metadata": {},
   "outputs": [],
   "source": []
  }
 ],
 "metadata": {
  "kernelspec": {
   "display_name": "Python 3 (ipykernel)",
   "language": "python",
   "name": "python3"
  },
  "language_info": {
   "codemirror_mode": {
    "name": "ipython",
    "version": 3
   },
   "file_extension": ".py",
   "mimetype": "text/x-python",
   "name": "python",
   "nbconvert_exporter": "python",
   "pygments_lexer": "ipython3",
   "version": "3.9.7"
  }
 },
 "nbformat": 4,
 "nbformat_minor": 5
}

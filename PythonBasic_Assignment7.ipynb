{
 "cells": [
  {
   "cell_type": "markdown",
   "id": "e5e7053f",
   "metadata": {},
   "source": [
    "#### Q1.What is the name of the feature responsible for generating Regex objects?\n",
    "\n",
    "The re.compile() function returns Regex objects.\n",
    "\n",
    "##### A RegEx, or Regular Expression, is a sequence of characters that forms a search pattern. RegEx can be used to check if a string contains the specified search pattern."
   ]
  },
  {
   "cell_type": "markdown",
   "id": "b5f31255",
   "metadata": {},
   "source": [
    "#### Q2. Why do raw strings often appear in Regex objects?\n",
    "\n",
    "Raw strings are used so that backslashes do not have to be escaped."
   ]
  },
  {
   "cell_type": "markdown",
   "id": "da86421f",
   "metadata": {},
   "source": [
    "#### Q3. What is the return value of the search() method?\n",
    "\n",
    "The search() method returns Match objects.\n",
    "\n",
    "re.match() searches only from the beginning of the string and return match object if found. But if a match of substring is found somewhere in the middle of the string, it returns none. \n",
    "While re.search() searches for the whole string even if the string contains multi-lines and tries to find a match of the substring in all the lines of string.\n"
   ]
  },
  {
   "cell_type": "markdown",
   "id": "5d22b9fa",
   "metadata": {},
   "source": [
    "#### Q4. From a Match item, how do you get the actual strings that match the pattern?\n",
    "\n",
    "The group() method returns strings of the matched text."
   ]
  },
  {
   "cell_type": "markdown",
   "id": "a3ac19e9",
   "metadata": {},
   "source": [
    "#### Q5. In the regex which created from the r'(\\d\\d\\d)-(\\d\\d\\d-\\d\\d\\d\\d)', what does group zero cover? Group 2? Group 1?\n",
    "\n",
    "Group 0 is the entire match, \n",
    "group 1 covers the first set of parentheses, \n",
    "and group 2 covers the second set of parentheses.\n"
   ]
  },
  {
   "cell_type": "markdown",
   "id": "8cca3139",
   "metadata": {},
   "source": [
    "#### Q6 In standard expression syntax, parentheses and intervals have distinct meanings. How can you tell a regex that you want it to fit real parentheses and periods?\n",
    "\n",
    "Periods and parentheses can be escaped with a backslash: \\., \\(, and \\)."
   ]
  },
  {
   "cell_type": "markdown",
   "id": "f8b93f28",
   "metadata": {},
   "source": [
    "#### Q7.The findall() method returns a string list or a list of string tuples. What causes it to return one of the two options?\n",
    "\n",
    "If the regex has no groups, a list of strings is returned. If the regex has groups, a list of tuples of strings is returned."
   ]
  },
  {
   "cell_type": "markdown",
   "id": "547abdd1",
   "metadata": {},
   "source": [
    "#### Q8.. In standard expressions, what does the | character mean?\n",
    "\n",
    "The | character signifies matching \"either, or\" between two groups."
   ]
  },
  {
   "cell_type": "markdown",
   "id": "b2f6c7db",
   "metadata": {},
   "source": [
    "#### Q9. In regular expressions, what does the character stand for?\n",
    "\n",
    "Character: All characters, except those having special meaning in regex, matches themselves. E.g., the regex x matches substring \"x\"; regex 9 matches \"9\"; regex = matches \"=\"; and regex @ matches \"@\".\n",
    "\n",
    "Special Regex Characters: These characters have special meaning in regex (to be discussed below): ., +, *, ?, ^, $, (, ), [, ], {, }, |, \\."
   ]
  },
  {
   "cell_type": "markdown",
   "id": "5f08f23a",
   "metadata": {},
   "source": [
    "#### Q10. In regular expressions, what is the difference between the + and * characters?\n",
    "\n",
    "The + matches one or more. The * matches zero or more."
   ]
  },
  {
   "cell_type": "markdown",
   "id": "064772f9",
   "metadata": {},
   "source": [
    "#### Q11. What is the difference between {4} and {4,5} in regular expression?\n",
    "\n",
    "The {4} matches exactly four instances of the preceding group. The {4,5} matches between four and five instances."
   ]
  },
  {
   "cell_type": "markdown",
   "id": "9532f3ab",
   "metadata": {},
   "source": [
    "#### Q12. What do you mean by the \\d, \\w, and \\s shorthand character classes signify in regular expressions?\n",
    "\n",
    "The \\d, \\w, and \\s shorthand character classes match a single digit, word, or space character, respectively."
   ]
  },
  {
   "cell_type": "markdown",
   "id": "1b85d5f3",
   "metadata": {},
   "source": [
    "#### Q13. What do means by \\D, \\W, and \\S shorthand character classes signify in regular expressions?\n",
    "\n",
    "The \\D, \\W, and \\S shorthand character classes match a single character that is not a digit, word, or space character, respectively."
   ]
  },
  {
   "cell_type": "markdown",
   "id": "378b9bca",
   "metadata": {},
   "source": [
    "#### Q14. What is the difference between (.*?) and (.*)? in regex?\n",
    "\n",
    "I used the regex tester at regex101.com (no affiliation) to test these.\n",
    "\n",
    "(.*?) matches any character (.) any number of times (*), as few times as possible to make the regex match (?). You'll get a match on any string, but you'll only capture a blank string because of the question mark. \n",
    "\n",
    "(.*)? captures a group zero or one times (?). That group consists of a run of any length (*) of any character (.). This also will match anything, but it will capture the first line, since the dot matches anything except a newline."
   ]
  },
  {
   "cell_type": "markdown",
   "id": "869bed58",
   "metadata": {},
   "source": [
    "#### Q15. What is the syntax for matching both numbers and lowercase letters with a character class?\n",
    "\n",
    "The regular expression [A-Z][a-z]* matches any sequence of letters that starts with an uppercase letter and is followed by zero or more lowercase letters. The special character * after the closing square bracket specifies to match zero or more occurrences of the character set."
   ]
  },
  {
   "cell_type": "markdown",
   "id": "792ecee1",
   "metadata": {},
   "source": [
    "#### Q16. What is the procedure for making a normal expression in regax case insensitive?\n",
    "\n",
    "re.IGNORECASE : This flag allows for case-insensitive matching of the Regular Expression with the given string i.e. expressions like [A-Z] will match lowercase letters, too. Generally, It’s passed as an optional argument to re.compile()."
   ]
  },
  {
   "cell_type": "markdown",
   "id": "6f907b66",
   "metadata": {},
   "source": [
    "#### Q17. What does the . character normally match? What does it match if re.DOTALL is passed as 2nd argument in re.compile()?\n",
    "\n",
    "The . character normally matches any character except the newline character. If re.DOTALL is passed as the second argument to re.compile(), then the dot will also match newline characters."
   ]
  },
  {
   "cell_type": "markdown",
   "id": "8c25e2d3",
   "metadata": {},
   "source": [
    "#### Q18. If numReg = re.compile(r'\\d+'), what will numRegex.sub('X', '11 drummers, 10 pipers, five rings, 4 hen') return?\n",
    "\n",
    "'X drummers, X pipers, five rings, X hens'"
   ]
  },
  {
   "cell_type": "markdown",
   "id": "a3383833",
   "metadata": {},
   "source": [
    "#### Q19. What does passing re.VERBOSE as the 2nd argument to re.compile() allow to do?\n",
    "\n",
    "The re.VERBOSE argument allows you to add whitespace and comments to the string passed to re.compile()."
   ]
  },
  {
   "cell_type": "markdown",
   "id": "83a6b31d",
   "metadata": {},
   "source": [
    "#### Q20. . How would you write a regex that match a number with comma for every three digits? It must match the given following:\n",
    "'42'\n",
    "'1,234'\n",
    "'6,368,745'\n",
    "but not the following:\n",
    "'12,34,567' (which has only two digits between the commas)\n",
    "'1234' (which lacks commas)\n",
    "\n",
    "\n",
    "\n",
    "re.compile(r'^\\d{1,3}(,\\d{3})*$') will create this regex, but other regex strings can produce a similar regular expression."
   ]
  },
  {
   "cell_type": "markdown",
   "id": "ad2e2c22",
   "metadata": {},
   "source": [
    "#### Q21. How would you write a regex that matches the full name of someone whose last name is Watanabe? You can assume that the first name that comes before it will always be one word that begins with a capital letter. The regex must match the following:\n",
    "'Haruto Watanabe',    \n",
    "'Alice Watanabe',    \n",
    "'RoboCop Watanabe',    \n",
    "but not the following:\n",
    "'haruto Watanabe' (where the first name is not capitalized),   \n",
    "'Mr. Watanabe' (where the preceding word has a nonletter character),   \n",
    "'Watanabe' (which has no first name),   \n",
    "'Haruto watanabe' (where Watanabe is not capitalized),   \n",
    "\n",
    "\n",
    "### re.compile(r'[A-Z][a-z]*\\sNakamoto')\n"
   ]
  },
  {
   "cell_type": "markdown",
   "id": "50b56949",
   "metadata": {},
   "source": [
    "#### Q22. 22. How would you write a regex that matches a sentence where the first word is either Alice, Bob, or Carol; the second word is either eats, pets, or throws; the third word is apples, cats, or baseballs; and the sentence ends with a period? This regex should be case-insensitive. It must match the following:\n",
    "'Alice eats apples.',    \n",
    "'Bob pets cats.',    \n",
    "'Carol throws baseballs.',    \n",
    "'Alice throws Apples.',    \n",
    "'BOB EATS CATS.',    \n",
    "but not the following:\n",
    "'RoboCop eats apples.',   \n",
    "'ALICE THROWS FOOTBALLS.',   \n",
    "'Carol eats 7 cats.',   \n",
    "\n",
    "\n",
    "#### re.compile(r'(Alice|Bob|Carol)\\s(eats|pets|throws)\\s(apples|cats|baseballs)\\.', re.IGNORECASE)\n"
   ]
  },
  {
   "cell_type": "code",
   "execution_count": null,
   "id": "ac952e83",
   "metadata": {},
   "outputs": [],
   "source": []
  }
 ],
 "metadata": {
  "kernelspec": {
   "display_name": "Python 3 (ipykernel)",
   "language": "python",
   "name": "python3"
  },
  "language_info": {
   "codemirror_mode": {
    "name": "ipython",
    "version": 3
   },
   "file_extension": ".py",
   "mimetype": "text/x-python",
   "name": "python",
   "nbconvert_exporter": "python",
   "pygments_lexer": "ipython3",
   "version": "3.9.7"
  }
 },
 "nbformat": 4,
 "nbformat_minor": 5
}

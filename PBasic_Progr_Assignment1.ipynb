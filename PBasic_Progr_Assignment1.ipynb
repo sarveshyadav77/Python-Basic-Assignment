{
 "cells": [
  {
   "cell_type": "markdown",
   "id": "45d68073",
   "metadata": {},
   "source": [
    "#### Q1.\tWrite a Python program to print \"Hello Python\"?"
   ]
  },
  {
   "cell_type": "code",
   "execution_count": 1,
   "id": "eb345b7b",
   "metadata": {},
   "outputs": [
    {
     "name": "stdout",
     "output_type": "stream",
     "text": [
      "Hello Python\n"
     ]
    }
   ],
   "source": [
    "print( \"Hello Python\")"
   ]
  },
  {
   "cell_type": "code",
   "execution_count": 2,
   "id": "ff8955d2",
   "metadata": {},
   "outputs": [
    {
     "name": "stdout",
     "output_type": "stream",
     "text": [
      "\"Hello Python\"\n"
     ]
    }
   ],
   "source": [
    "a  =  '\"Hello Python\"'\n",
    "print(a)"
   ]
  },
  {
   "cell_type": "markdown",
   "id": "e753878f",
   "metadata": {},
   "source": [
    "#### Q2.\tWrite a Python program to do arithmetical operations addition and division.?"
   ]
  },
  {
   "cell_type": "code",
   "execution_count": 3,
   "id": "62c54017",
   "metadata": {},
   "outputs": [
    {
     "name": "stdout",
     "output_type": "stream",
     "text": [
      "result of c is  8 and  result of d is 0.6\n"
     ]
    }
   ],
   "source": [
    "a = 3\n",
    "b = 5\n",
    "c = a+b\n",
    "d = a/b\n",
    "print(\"result of c is \" , c, \"and\" ,\" result of d is\" ,d)"
   ]
  },
  {
   "cell_type": "markdown",
   "id": "6ce37b17",
   "metadata": {},
   "source": [
    "#### Q3.\tWrite a Python program to find the area of a triangle?"
   ]
  },
  {
   "cell_type": "code",
   "execution_count": 4,
   "id": "4f5b94d8",
   "metadata": {},
   "outputs": [],
   "source": [
    "def area(b, h):\n",
    "    A = (1/2)*b*h\n",
    "    return A"
   ]
  },
  {
   "cell_type": "code",
   "execution_count": 5,
   "id": "ed3ae4dd",
   "metadata": {},
   "outputs": [
    {
     "data": {
      "text/plain": [
       "4.0"
      ]
     },
     "execution_count": 5,
     "metadata": {},
     "output_type": "execute_result"
    }
   ],
   "source": [
    "area(2,4)"
   ]
  },
  {
   "cell_type": "markdown",
   "id": "f718f308",
   "metadata": {},
   "source": [
    "#### Q4.\tWrite a Python program to swap two variables?"
   ]
  },
  {
   "cell_type": "code",
   "execution_count": 6,
   "id": "d7ef22bc",
   "metadata": {},
   "outputs": [
    {
     "name": "stdout",
     "output_type": "stream",
     "text": [
      "20 10\n",
      "10 20\n",
      "Before swap a = 20 and b = 10\n",
      "After swap a = 10 and b = 20\n"
     ]
    }
   ],
   "source": [
    "a = 10\n",
    "b = 20\n",
    "(a,b) = (b,a)\n",
    "print(a,b)\n",
    "print (b,a)\n",
    "print(\"Before swap a =\" ,a ,\"and b =\",  b)\n",
    "print(\"After swap a =\" ,b , \"and b =\" , a)"
   ]
  },
  {
   "cell_type": "code",
   "execution_count": 7,
   "id": "f9b7fd5a",
   "metadata": {},
   "outputs": [
    {
     "name": "stdout",
     "output_type": "stream",
     "text": [
      "20 10\n"
     ]
    }
   ],
   "source": [
    "# by using 3rd variable\n",
    "a = 10\n",
    "b = 20\n",
    "\n",
    "temp = a\n",
    "a = b\n",
    "b = temp\n",
    "print(a,b)"
   ]
  },
  {
   "cell_type": "markdown",
   "id": "47934512",
   "metadata": {},
   "source": [
    "#### Q5.\tWrite a Python program to generate a random number?"
   ]
  },
  {
   "cell_type": "code",
   "execution_count": 8,
   "id": "68bd25e8",
   "metadata": {},
   "outputs": [
    {
     "name": "stdout",
     "output_type": "stream",
     "text": [
      "52\n"
     ]
    }
   ],
   "source": [
    "import random\n",
    "\n",
    "print(random.randint(0,100))\n"
   ]
  },
  {
   "cell_type": "code",
   "execution_count": 9,
   "id": "f3d846b3",
   "metadata": {},
   "outputs": [
    {
     "name": "stdout",
     "output_type": "stream",
     "text": [
      "45\n"
     ]
    }
   ],
   "source": [
    "import random\n",
    "\n",
    "print(random.randint(0,100))"
   ]
  },
  {
   "cell_type": "code",
   "execution_count": 10,
   "id": "873c7532",
   "metadata": {},
   "outputs": [],
   "source": [
    "# After running 2 times this same program there are two random answer."
   ]
  },
  {
   "cell_type": "code",
   "execution_count": null,
   "id": "51a61d1f",
   "metadata": {},
   "outputs": [],
   "source": []
  }
 ],
 "metadata": {
  "kernelspec": {
   "display_name": "Python 3 (ipykernel)",
   "language": "python",
   "name": "python3"
  },
  "language_info": {
   "codemirror_mode": {
    "name": "ipython",
    "version": 3
   },
   "file_extension": ".py",
   "mimetype": "text/x-python",
   "name": "python",
   "nbconvert_exporter": "python",
   "pygments_lexer": "ipython3",
   "version": "3.9.7"
  }
 },
 "nbformat": 4,
 "nbformat_minor": 5
}
